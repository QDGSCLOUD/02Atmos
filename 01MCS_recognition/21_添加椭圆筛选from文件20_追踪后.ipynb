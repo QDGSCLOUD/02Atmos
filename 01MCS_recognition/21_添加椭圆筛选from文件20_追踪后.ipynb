{
 "cells": [
  {
   "cell_type": "code",
   "metadata": {
    "ExecuteTime": {
     "end_time": "2025-07-05T11:49:18.145549Z",
     "start_time": "2025-07-05T11:49:15.633213Z"
    }
   },
   "source": [
    "import xarray as xr \n",
    "import cartopy\n",
    "import xarray as xr\n",
    "import numpy as np\n",
    "import matplotlib.pyplot as plt\n",
    "import cartopy.crs as ccrs\n",
    "import cartopy.feature as cfeature \n",
    "import cv2\n",
    "from matplotlib.patches import Polygon\n",
    "from matplotlib.lines import Line2D\n",
    "import os \n",
    "from matplotlib.patches import Polygon, FancyArrowPatch    # 用于画箭头的 ， 虽然没用到\n",
    "from shapely.geometry import Polygon as ShapelyPolygon     # 用于确定多边形中心点位置\n",
    "# 防止中文乱码\n",
    "plt.rcParams['font.sans-serif'] = ['SimHei']\n",
    "plt.rcParams['axes.unicode_minus'] = False\n"
   ],
   "outputs": [],
   "execution_count": 1
  },
  {
   "cell_type": "code",
   "metadata": {
    "ExecuteTime": {
     "end_time": "2025-07-05T11:49:18.169307Z",
     "start_time": "2025-07-05T11:49:18.148560Z"
    }
   },
   "source": [
    "\"\"\"\n",
    "# 考虑了：\n",
    "#     使用了轮廓，而非boxes\n",
    "#     亮温: Tb < 241K, 且有 Tb<225K  , 识别的是 241K  \n",
    "#     面积: 大于4e4 km^2\n",
    "#     覆盖率计算：   如果前一个时刻有n个轮廓与当前时刻的轮廓重叠率超两者较小的那个的整体面积的50%，\n",
    "#                  则挑选出前一时刻具有较大面积的那个\n",
    "\n",
    "\n",
    "# 注意：\n",
    "#      椭圆和对应的长轴没有画在图上 , 最后最好把轮廓也画上这样方便比较\n",
    "#      椭圆: 主轴长>100km 且 离心率大于0.4   还没有筛选\n",
    "#      对单个时间的没有做融合整合， 因为取出的是外轮廓, 后面可以考虑融合\n",
    "\n",
    "\"\"\""
   ],
   "outputs": [
    {
     "data": {
      "text/plain": [
       "'\\n# 考虑了：\\n#     使用了轮廓，而非boxes\\n#     亮温: Tb < 241K, 且有 Tb<225K  , 识别的是 241K  \\n#     面积: 大于4e4 km^2\\n#     覆盖率计算：   如果前一个时刻有n个轮廓与当前时刻的轮廓重叠率超两者较小的那个的整体面积的50%，\\n#                  则挑选出前一时刻具有较大面积的那个\\n\\n\\n# 注意：\\n#      椭圆和对应的长轴没有画在图上 , 最后最好把轮廓也画上这样方便比较\\n#      椭圆: 主轴长>100km 且 离心率大于0.4   还没有筛选\\n#      对单个时间的没有做融合整合， 因为取出的是外轮廓, 后面可以考虑融合\\n\\n'"
      ]
     },
     "execution_count": 2,
     "metadata": {},
     "output_type": "execute_result"
    }
   ],
   "execution_count": 2
  },
  {
   "cell_type": "code",
   "metadata": {
    "ExecuteTime": {
     "end_time": "2025-07-05T11:49:22.469660Z",
     "start_time": "2025-07-05T11:49:18.172323Z"
    }
   },
   "source": [
    "\"\"\" \n",
    "获取的数据：\n",
    "    亮温： tbdata \n",
    "    经度： lon \n",
    "    纬度： lat \n",
    "\"\"\"\n",
    "dir_pth = r\"./data/\"\n",
    "all_datafiles_pth_list = os.listdir(dir_pth)\n",
    "init_data_list  = []\n",
    "tb_data_list = []\n",
    "for i_file_pth in all_datafiles_pth_list:\n",
    "    print(dir_pth+i_file_pth)\n",
    "    i_file_data = xr.open_dataset(dir_pth+i_file_pth)\n",
    "    # 处理单个文件数据   \n",
    "    i_file_data  =  i_file_data.sel(lat = slice(-10, 30), lon = slice(90, 180)  )  \n",
    "    # i_file_data  =  i_file_data.sel(lat = slice(-60, 60), lon = slice(-180, 180)  )  \n",
    "\n",
    "    tbdata = i_file_data.irwin_cdr[0].to_numpy()   # 由于获取的数据是（1，lon, lat) 所有需转换成（lon, lat)， 且为numpy格式\n",
    "\n",
    "    # 保存的数据\n",
    "    init_data_list.append(i_file_data)    \n",
    "    tb_data_list.append(tbdata)\n",
    "\n",
    "lon = i_file_data.lon    # 每个文件的lon, lat 都一样，此处取第一个文件的lon, lat\n",
    "lat = i_file_data.lat   \n"
   ],
   "outputs": [
    {
     "name": "stdout",
     "output_type": "stream",
     "text": [
      "./data/GRIDSAT-B1.2023.07.23.03.v02r01.nc\n",
      "./data/GRIDSAT-B1.2023.07.23.06.v02r01.nc\n",
      "./data/GRIDSAT-B1.2023.07.23.09.v02r01.nc\n"
     ]
    }
   ],
   "execution_count": 3
  },
  {
   "cell_type": "code",
   "metadata": {
    "ExecuteTime": {
     "end_time": "2025-07-05T11:49:22.480937Z",
     "start_time": "2025-07-05T11:49:22.471670Z"
    }
   },
   "source": [
    "print(i_file_data.irwin_cdr)"
   ],
   "outputs": [
    {
     "name": "stdout",
     "output_type": "stream",
     "text": [
      "<xarray.DataArray 'irwin_cdr' (time: 1, lat: 571, lon: 1285)>\n",
      "[733735 values with dtype=float32]\n",
      "Coordinates:\n",
      "  * lat      (lat) float32 -9.94 -9.87 -9.8 -9.73 ... 29.75 29.82 29.89 29.96\n",
      "  * lon      (lon) float32 90.06 90.13 90.2 90.27 ... 179.7 179.8 179.9 179.9\n",
      "  * time     (time) datetime64[ns] 2023-07-23T09:00:00\n",
      "Attributes:\n",
      "    long_name:          NOAA FCDR of Brightness Temperature near 11 microns (...\n",
      "    standard_name:      toa_brightness_temperature\n",
      "    units:              Kelvin\n",
      "    comment:            Nadir-most observations\n",
      "    valid_range:        [140. 375.]\n",
      "    Note_A:             Calibration correction of Kanpp (2007) not applied\n",
      "    Note_B:             The IRWIN_CDR data have been View Zenith corrected us...\n",
      "    intergeo_cal_flag:  0\n"
     ]
    }
   ],
   "execution_count": 4
  },
  {
   "cell_type": "markdown",
   "metadata": {},
   "source": [
    "# 连续区域识别 "
   ]
  },
  {
   "cell_type": "markdown",
   "metadata": {},
   "source": [
    "## 找出需要的亮温区对应轮廓"
   ]
  },
  {
   "cell_type": "code",
   "metadata": {
    "ExecuteTime": {
     "end_time": "2025-07-05T11:49:22.501647Z",
     "start_time": "2025-07-05T11:49:22.484946Z"
    }
   },
   "source": [
    "# 找边界\n",
    "def get_outline_contour(tb): \n",
    "    \"\"\"\n",
    "    tb: 亮温数据，  二维numpy数组\n",
    "    return: \n",
    "\n",
    "    \"\"\"\n",
    "    # 找出所有Tb < 225K的像素\n",
    "    _, cold_cores = cv2.threshold(tb, 225, 255, cv2.THRESH_BINARY_INV)\n",
    "    cold_cores = cold_cores.astype(np.uint8)   # # 转换为8位无符号整型以便后续处理\n",
    "    \n",
    "    # 找出所有Tb < 241K的像素\n",
    "    _, cold_regions = cv2.threshold(tb, 241, 255, cv2.THRESH_BINARY_INV)\n",
    "    cold_regions = cold_regions.astype(np.uint8)\n",
    "    \n",
    "    # # 使用形态学膨胀操作扩展冷云区域、冷云核心，   也就是把边缘弄得精细一些。   \n",
    "    # kernel = np.ones((1,1), np.uint8)  \n",
    "    # cold_cores = cv2.dilate(cold_cores, kernel, iterations= 1)\n",
    "    # cold_regions = cv2.dilate(cold_regions, kernel, iterations= 1)\n",
    "\n",
    "    #按照 冷区 获取轮廓\n",
    "    contours_cold_cores, _ = cv2.findContours(cold_cores, cv2.RETR_EXTERNAL, cv2.CHAIN_APPROX_SIMPLE)\n",
    "    contours_cold_regions, _ = cv2.findContours(cold_regions, cv2.RETR_EXTERNAL, cv2.CHAIN_APPROX_SIMPLE)\n",
    "\n",
    "    # 准备一个掩膜用于保存需要保留的cold_regions轮廓\n",
    "    all_cnts = []\n",
    "    Tb_mask = np.zeros_like(cold_regions)\n",
    "    for region_contour in contours_cold_regions:\n",
    "        for core_contour in contours_cold_cores:\n",
    "            # 检查cold_cores的轮廓是否在cold_regions的轮廓内部    ， # core_contour[0][0]是np array, 不是list\n",
    "            dist = cv2.pointPolygonTest(region_contour, tuple(core_contour[0][0].tolist()), measureDist=False)\n",
    "            if dist >= 0:  # 如果core_contour的一个点在region_contour内（包括边界）\n",
    "                # 绘制这个cold_regions轮廓到掩膜上\n",
    "                cv2.drawContours(Tb_mask, [region_contour], -1, color=255, thickness=cv2.FILLED)\n",
    "\n",
    "                # 保存轮廓点list\n",
    "                all_cnts.append(region_contour)\n",
    "                # 保存单独轮廓\n",
    "                # single_mask = np.zeros_like(cold_regions)\n",
    "                # cv2.drawContours(single_mask, [region_contour], -1, color=255, thickness=cv2.FILLED)\n",
    "                # single_mask=  single_mask.astype(bool)\n",
    "                # single_mask &= (tb< 241)\n",
    "                # individual_masks.append(single_mask)\n",
    "                break  # 一旦找到匹配，跳出循环检查下一个cold_regions轮廓\n",
    "    tbcondition = ((Tb_mask==255) & (tb < 241))\n",
    "    Tb_mask = np.where(tbcondition, Tb_mask, 0)\n",
    "    return Tb_mask , all_cnts"
   ],
   "outputs": [],
   "execution_count": 5
  },
  {
   "attachments": {},
   "cell_type": "markdown",
   "metadata": {},
   "source": [
    "## 判断面积\n"
   ]
  },
  {
   "cell_type": "code",
   "metadata": {
    "ExecuteTime": {
     "end_time": "2025-07-05T11:49:22.514489Z",
     "start_time": "2025-07-05T11:49:22.504660Z"
    }
   },
   "source": [
    "def judge_area(judge_tb_mask, all_cnts, real_area_threshold=4e4):\n",
    "    jg_pixel_threshold = real_area_threshold / (8 * 8)   # 1 pixel = 8*8 km^2 \n",
    "    contours_pts_list = [] \n",
    "    judge_area_mask = np.zeros_like(judge_tb_mask, dtype=np.uint8)\n",
    "    for cnt in all_cnts:\n",
    "        i_cnt_mask = np.zeros_like(judge_tb_mask, dtype=np.uint8)\n",
    "        cv2.drawContours(i_cnt_mask, [cnt], -1, color=255, thickness=cv2.FILLED)\n",
    "        # 判断面积 \n",
    "        conditon = np.logical_and(judge_tb_mask, i_cnt_mask).astype(np.uint8)\n",
    "        area = cv2.countNonZero(conditon)\n",
    "        if area > jg_pixel_threshold:\n",
    "            contours_pts_list.append(cnt)\n",
    "            cv2.drawContours(judge_area_mask, [cnt], -1, color=255, thickness=cv2.FILLED)\n",
    "    return  judge_area_mask, contours_pts_list"
   ],
   "outputs": [],
   "execution_count": 6
  },
  {
   "cell_type": "code",
   "metadata": {
    "ExecuteTime": {
     "end_time": "2025-07-05T11:49:22.527290Z",
     "start_time": "2025-07-05T11:49:22.518029Z"
    }
   },
   "source": [
    "# \"\"\" 下方函数未使用 \"\"\"\n",
    "# def refine_contours(tb, judge_tb_mask, all_cnts):\n",
    "#     refined_mask = np.zeros_like(judge_tb_mask, dtype=np.uint8)\n",
    "#     refined_cnts = []\n",
    "\n",
    "#     for cnt in all_cnts:\n",
    "#         # Step 1: 创建当前轮廓的mask\n",
    "#         cnt_mask = np.zeros_like(tb, dtype=np.uint8)\n",
    "#         cv2.drawContours(cnt_mask, [cnt], -1, color=255, thickness=cv2.FILLED)\n",
    "\n",
    "#         # Step 2: 获取当前轮廓内的像素坐标 (y, x)\n",
    "#         pts = np.column_stack(np.where(cnt_mask > 0))\n",
    "\n",
    "#         # Step 3: 检查这些点是否满足 tb[y, x] < 241\n",
    "#         valid_pts = []\n",
    "#         for y, x in pts:\n",
    "#             if tb[y, x] < 241:\n",
    "#                 valid_pts.append([x, y])  # OpenCV 使用 (x, y) 格式保存点\n",
    "\n",
    "#         # Step 4: 如果有效点太少，跳过该轮廓， 其实找面积的时候已经保证了点的数量。 \n",
    "#         if len(valid_pts) < 3:\n",
    "#             continue\n",
    "\n",
    "#         # Step 5: 将有效点转为 NumPy 数组\n",
    "#         valid_pts = np.array(valid_pts, dtype=np.int32)\n",
    "#         # Step 7: 更新新的mask和轮廓列表 \n",
    "#         contour = valid_pts.reshape((-1, 1, 2))  # 新排序这些点，使其形成一个闭合轮廓（按原顺序即可）\n",
    "#                                              # 注意：OpenCV 的 drawContours 要求输入的点是一个 shape 为 (n, 1, 2) 的数组， 所以我们 reshape 成 (n, 1, 2)\n",
    "#         cv2.drawContours(refined_mask, [contour], -1, 255, thickness=cv2.FILLED)\n",
    "#         refined_cnts.append(contour)\n",
    "#         # 构建新多边形/轮廓 ==> 使用函数cv2.convexHull构建\n",
    "#         # # valid_pts = np.array(valid_pts, dtype=np.int32)\n",
    "#         # # hull = cv2.convexHull(valid_pts)  # 或者使用 approxPolyDP 简化形状\n",
    "        \n",
    "#     return refined_mask, refined_cnts\n"
   ],
   "outputs": [],
   "execution_count": 7
  },
  {
   "attachments": {},
   "cell_type": "markdown",
   "metadata": {},
   "source": [
    "## 将轮廓点转化为对应的掩码和真实数据"
   ]
  },
  {
   "cell_type": "code",
   "metadata": {
    "ExecuteTime": {
     "end_time": "2025-07-05T11:49:22.538713Z",
     "start_time": "2025-07-05T11:49:22.529300Z"
    }
   },
   "source": [
    "def get_dataAndmask(outline_mask, matched_outline_list, initdata):\n",
    "    result_mask = np.zeros_like(outline_mask)   \n",
    "    for i_outline_3Dpts in matched_outline_list:\n",
    "        cv2.drawContours(result_mask, [i_outline_3Dpts], -1, color=255, thickness=cv2.FILLED)\n",
    "    data = np.where(result_mask, initdata, np.nan  )  # result_mask中的元素为0或者255，0也就是False, 所以mask可以作为掩码\n",
    "    return  data , result_mask "
   ],
   "outputs": [],
   "execution_count": 8
  },
  {
   "attachments": {},
   "cell_type": "markdown",
   "metadata": {},
   "source": "## 云的移动追踪"
  },
  {
   "cell_type": "code",
   "metadata": {
    "ExecuteTime": {
     "end_time": "2025-07-05T11:49:22.552407Z",
     "start_time": "2025-07-05T11:49:22.541724Z"
    }
   },
   "source": [
    "def calculate_overlap(contour1, contour2, tb):\n",
    "    \"\"\"\n",
    "    计算两个轮廓之间的重叠比例（intersection / area of contour1），仅考虑tb<241的区域。\n",
    "    :param contour1: 轮廓1, 表示以前时刻\n",
    "    :param contour2: 轮廓2， 表示当前时刻\n",
    "    :param tb: 输入的真实数据数组\n",
    "    :return: overlap ratio\n",
    "    \"\"\"\n",
    "    mask1 = np.zeros(tb.shape, dtype=np.uint8)\n",
    "    mask2 = np.zeros(tb.shape, dtype=np.uint8)\n",
    "    \n",
    "    # 绘制轮廓到掩膜上\n",
    "    cv2.drawContours(mask1, [contour1], -1, color=1, thickness=cv2.FILLED)\n",
    "    cv2.drawContours(mask2, [contour2], -1, color=1, thickness=cv2.FILLED)\n",
    "\n",
    "    # 将不满足tb < 241的区域从掩膜中排除\n",
    "    mask1 &= (tb < 241)\n",
    "    mask2 &= (tb < 241)\n",
    "\n",
    "    # 计算交集和各自的面积\n",
    "    intersection = np.logical_and(mask1, mask2).sum()\n",
    "    area1 = mask1.sum()  # 因为mask1是二值化的，可以直接用sum来计算面积\n",
    "    area2 = mask2.sum()\n",
    "\n",
    "    if min(area1, area2) > 0:\n",
    "        ratio = intersection / min(area1, area2)\n",
    "    else:\n",
    "        ratio = 0  # 避免除以0的情况\n",
    "    # ratio = denominator = np.minimum(area1, area2)\n",
    "    return ratio , area1 "
   ],
   "outputs": [],
   "execution_count": 9
  },
  {
   "cell_type": "code",
   "metadata": {
    "ExecuteTime": {
     "end_time": "2025-07-05T11:49:22.570493Z",
     "start_time": "2025-07-05T11:49:22.555418Z"
    }
   },
   "source": [
    "\"\"\"   考虑前一时刻最大面积的追踪 函数\"\"\"\n",
    "def track_clouds(contours_list, tb_datalist):\n",
    "    \"\"\"\n",
    "    :param contours_list: list[list[contours]]，每个元素是一帧中的多个轮廓\n",
    "    :return: tracked_contours: 每个轮廓带有一个ID\n",
    "    \"\"\" \n",
    "    tracked_contours = []  # 存储每帧的 (contour, id) 列表\n",
    "    current_id = 0\n",
    "\n",
    "    for i, frame_contours in enumerate(contours_list):\n",
    "        current_tracked = []\n",
    "\n",
    "        if i == 0:\n",
    "            # 第一帧：所有轮廓都是新ID\n",
    "            for cnt in frame_contours:\n",
    "                current_tracked.append((cnt, current_id))\n",
    "                current_id += 1\n",
    "\n",
    "        else:\n",
    "            prev_tracked = tracked_contours[i - 1]\n",
    "            used_idx = set()  # 已匹配的前一帧轮廓索引\n",
    "\n",
    "            for cnt in frame_contours:\n",
    "                candidates = []  # 存储所有满足 overlap_ratio ≥ 0.5 的匹配项\n",
    "\n",
    "                for j, (prev_cnt, pid) in enumerate(prev_tracked):\n",
    "                    if j in used_idx:\n",
    "                        continue\n",
    "\n",
    "                    # 调用你自己的 calculate_overlap\n",
    "                    overlap_ratio, area1 = calculate_overlap(prev_cnt, cnt, tb_datalist[i])\n",
    "\n",
    "                    if overlap_ratio >= 0.5:\n",
    "                        # 同时保存 j（索引）、pid（ID）、area1（前一帧轮廓的有效面积）\n",
    "                        candidates.append((j, pid, area1))\n",
    "\n",
    "                if candidates:\n",
    "                    # 按面积从大到小排序，取最大面积的那个\n",
    "                    best_j, best_pid, _ = sorted(candidates, key=lambda x: x[2], reverse=True)[0]\n",
    "                    used_idx.add(best_j)\n",
    "                    current_tracked.append((cnt, best_pid))\n",
    "                else:\n",
    "                    # 没有匹配项 → 新云团\n",
    "                    current_tracked.append((cnt, current_id))\n",
    "                    current_id += 1\n",
    "\n",
    "        tracked_contours.append(current_tracked)\n",
    "\n",
    "    return tracked_contours"
   ],
   "outputs": [],
   "execution_count": 10
  },
  {
   "attachments": {},
   "cell_type": "markdown",
   "metadata": {},
   "source": "# 原始文件数据处理与函数调用"
  },
  {
   "cell_type": "code",
   "metadata": {
    "ExecuteTime": {
     "end_time": "2025-07-05T11:49:33.918426Z",
     "start_time": "2025-07-05T11:49:22.572503Z"
    }
   },
   "source": [
    "# 获取不同时刻的完整轮廓\n",
    "contours_list = []  # 存储每个时刻的轮廓列表\n",
    "for tb in tb_data_list:\n",
    "    outline_mask ,all_cnts = get_outline_contour(tb)  # 和 tb单个文件的shape 一样\n",
    "    judge_area_mask, contours_pts_list = judge_area(outline_mask, all_cnts)\n",
    "    # mch_area_elip_list   = judge_ellipse(contours_pts_list)\n",
    "    contours_list.append(contours_pts_list)\n"
   ],
   "outputs": [
    {
     "name": "stderr",
     "output_type": "stream",
     "text": [
      "\n",
      "KeyboardInterrupt\n",
      "\n"
     ]
    }
   ],
   "execution_count": 11
  },
  {
   "cell_type": "code",
   "metadata": {},
   "source": [
    "# 开始追踪\n",
    "tracked_contours  =  track_clouds(contours_list, tb_data_list) "
   ],
   "outputs": [],
   "execution_count": null
  },
  {
   "metadata": {},
   "cell_type": "code",
   "source": [
    "# \"\"\"  原版追踪结果， 不挑选 > 2条的数据\"\"\"\n",
    "# # 追踪后的数据\n",
    "# # 第一步：按ID分组，并记录每个ID在哪些时间帧中出现过  \n",
    "# id_dict = {}\n",
    "# for t, frame in enumerate(tracked_contours):\n",
    "#     for contour, cid in frame:\n",
    "#         if cid not in id_dict:\n",
    "#             id_dict[cid] = []  # 初始化该ID的列表\n",
    "#         id_dict[cid].append({\n",
    "#             't': t,\n",
    "#             'contour': contour\n",
    "#         })\n",
    "\n",
    "# #  未做==>  第二步：筛选出存在 ≥2 个时刻的云团，并以 {cid: {t: contour}} 的形式保存\n",
    "\n",
    "# t_dict = {}\n",
    "# for id in id_dict.keys():\n",
    "#     items = id_dict[id]\n",
    "#     for item in items:\n",
    "#         t = item['t']\n",
    "#         cnt = item['contour']\n",
    "#         if t not in t_dict:\n",
    "#             t_dict[t] = []\n",
    "#         t_dict[t].append({\n",
    "#             'id': id,\n",
    "#             'contour': cnt\n",
    "#         })"
   ],
   "outputs": [],
   "execution_count": null
  },
  {
   "cell_type": "code",
   "metadata": {},
   "source": [
    "\"\"\"  挑选出同一个ID的时刻数 ≥2 个时刻的云团\"\"\"\n",
    "# 第一步：按ID分组，并记录每个ID在哪些时间帧中出现过  \n",
    "id_dict = {}\n",
    "for t, frame in enumerate(tracked_contours):\n",
    "    for contour, cid in frame:\n",
    "        if cid not in id_dict:\n",
    "            id_dict[cid] = []  # 初始化该ID的列表\n",
    "        id_dict[cid].append({\n",
    "            't': t,\n",
    "            'contour': contour\n",
    "        })\n",
    "\n",
    "# 第二步：筛选出存在 ≥2 个时刻的云团，并以 {cid: {t: contour}} 的形式保存\n",
    "\n",
    "t_dict = {}\n",
    "for id in id_dict.keys():\n",
    "    items = id_dict[id]\n",
    "    if len(items) >= 2:\n",
    "        for item in items:\n",
    "            t = item['t']\n",
    "            cnt = item['contour']\n",
    "            if t not in t_dict:\n",
    "                t_dict[t] = []\n",
    "            t_dict[t].append({\n",
    "                'id': id,\n",
    "                'contour': cnt\n",
    "            })"
   ],
   "outputs": [],
   "execution_count": null
  },
  {
   "cell_type": "code",
   "metadata": {},
   "source": [
    "track_otlin_list = []\n",
    "clean_otline_data = []\n",
    "for i_t in t_dict.keys():\n",
    "    i_t_track_otlin_list = []\n",
    "    for i in range(len(t_dict[i_t])):\n",
    "        cnt = t_dict[i_t][i]['contour']\n",
    "        i_t_track_otlin_list.append(cnt)\n",
    "    data , result_mask = get_dataAndmask(outline_mask, i_t_track_otlin_list, tb_data_list[i_t])\n",
    "    data = np.where(data < 241, data, np.nan)\n",
    "    # 保存数据\n",
    "    clean_otline_data.append(data)\n",
    "    track_otlin_list.append(i_t_track_otlin_list)\n"
   ],
   "outputs": [],
   "execution_count": null
  },
  {
   "metadata": {},
   "cell_type": "markdown",
   "source": "## 椭圆"
  },
  {
   "metadata": {},
   "cell_type": "code",
   "source": [
    "# # 判断主长轴和离心率\n",
    "def judge_ellipse(otline_pts_list):\n",
    "    mch_elip_area_list  = []\n",
    "    count_unfit_elip = 0\n",
    "    for cnt in otline_pts_list:\n",
    "        if len(cnt) >= 5: # 确保有足够数量的点来拟合椭圆\n",
    "            ellipse = cv2.fitEllipse(cnt)   \n",
    "            # 判断主长轴、离心率\n",
    "            major_axis_legth = max(ellipse[1][0], ellipse[1][1])\n",
    "            minor_axis_legth = min(ellipse[1][0], ellipse[1][1])\n",
    "            # 离心率计算\n",
    "            ecc = np.sqrt(1 - (minor_axis_legth / major_axis_legth)**2)\n",
    "            if (major_axis_legth > (100/8)) or (ecc > 0.4):    # 1 pixel = 8km\n",
    "                mch_elip_area_list.append(cnt)\n",
    "        else:\n",
    "            count_unfit_elip += 1\n",
    "            print(\"统计无法拟合椭圆的轮廓数：\", count_unfit_elip)\n",
    "    return  mch_elip_area_list\n"
   ],
   "outputs": [],
   "execution_count": null
  },
  {
   "metadata": {},
   "cell_type": "markdown",
   "source": "## 轮廓点转换为经纬度(待使用)"
  },
  {
   "metadata": {},
   "cell_type": "code",
   "source": [
    "def outline2lonlat(otline_pts_list, lon, lat):\n",
    "    lonlat_pts_list = []\n",
    "    for i_outline in otline_pts_list:\n",
    "        # print(i_outline.squeeze().shape)\n",
    "        # print(\"print(print(i_outline.squeeze()))\")\n",
    "        # print(print(i_outline.squeeze()))\n",
    "        # print(\"==================================\")\n",
    "\n",
    "        i_new_list = []\n",
    "        for i_lonlat in i_outline.squeeze():  #  [x  y] 的一个点  \n",
    "            i_lon = lon[i_lonlat[0]].item()\n",
    "            i_lat = lat[i_lonlat[1]].item()\n",
    "            i_new_list.append([i_lon, i_lat])\n",
    "        lonlat_pts_list.append(i_new_list)\n",
    "    return lonlat_pts_list"
   ],
   "outputs": [],
   "execution_count": null
  },
  {
   "metadata": {},
   "cell_type": "markdown",
   "source": "# 测试"
  },
  {
   "metadata": {},
   "cell_type": "code",
   "source": [
    "jg_ellipse_cnt_list = []\n",
    "jg_ellipse_clean_data = []\n",
    "for i_t in range(len(tb_data_list)):\n",
    "    jg_elip = judge_ellipse(track_otlin_list[i_t])\n",
    "    i_t_cln_data , result_mask = get_dataAndmask(outline_mask, jg_elip, tb_data_list[i_t])\n",
    "    i_t_cln_data = np.where(i_t_cln_data < 241, data, np.nan)\n",
    "    # 保存数据 \n",
    "    jg_ellipse_clean_data.append(i_t_cln_data)  # 保存清洗后的数据\n",
    "    jg_ellipse_cnt_list.append(jg_elip)  # 保存轮廓点\n"
   ],
   "outputs": [],
   "execution_count": null
  },
  {
   "metadata": {},
   "cell_type": "code",
   "source": [
    "# track_otlin_list = []\n",
    "# clean_otline_data = []\n",
    "# for i_t in t_dict.keys():\n",
    "#     i_t_track_otlin_list = []\n",
    "#     for i in range(len(t_dict[i_t])):\n",
    "#         cnt = t_dict[i_t][i]['contour']\n",
    "#         i_t_track_otlin_list.append(cnt)\n",
    "#     data , result_mask = get_dataAndmask(outline_mask, i_t_track_otlin_list, tb_data_list[i_t])\n",
    "#     data = np.where(data < 241, data, np.nan)\n",
    "#     # 保存数据\n",
    "#     clean_otline_data.append(data)\n",
    "#     track_otlin_list.append(i_t_track_otlin_list)"
   ],
   "outputs": [],
   "execution_count": null
  },
  {
   "metadata": {},
   "cell_type": "code",
   "source": [
    "# for i_t_cnts in track_otlin_list:\n",
    "#     print(len(i_t_cnts))  # 一个时刻有多少个轮廓\n",
    "#     # for i_cnt in i_t_cnts:\n",
    "#     #     print(i_cnt.shape)\n",
    "# \n"
   ],
   "outputs": [],
   "execution_count": null
  },
  {
   "metadata": {},
   "cell_type": "code",
   "source": "",
   "outputs": [],
   "execution_count": null
  },
  {
   "metadata": {},
   "cell_type": "markdown",
   "source": "# 开始画图"
  },
  {
   "cell_type": "code",
   "metadata": {},
   "source": [
    "from matplotlib.colors import ListedColormap\n",
    "\n",
    "# 假设已经有了：\n",
    "# tracked_contours: track_clouds 返回的结果\n",
    "# tb_data_list: 所有亮温数据 (list of 2D arrays)\n",
    "# lon, lat: 经纬度网格数组\n",
    "# clean_otline_data: 每帧中筛选后的有效数据（用于颜色填充）\n",
    "# t_dict: 后处理后得到的数据结构，包含 {t: [{'id': id, 'contour': contour}, ...]}\n",
    "\n",
    "fig, ax = plt.subplots(figsize=(20, 10), subplot_kw={'projection': ccrs.PlateCarree()})\n",
    "grid = ax.gridlines(draw_labels=True, linewidth=0)\n",
    "grid.top_labels = False\n",
    "grid.right_labels = False\n",
    "ax.add_feature(cfeature.BORDERS, edgecolor='lightgray', alpha=0.5)\n",
    "ax.add_feature(cfeature.COASTLINE, edgecolor='lightgray', alpha=0.5)\n",
    "ax.set_extent([90, 180, -10, 30], crs=ccrs.PlateCarree())\n",
    "\n",
    "cmaplist = ['Blues', 'Reds', 'binary']\n",
    "# colors = ['#FF4500', '#32CD32', '#007BFF']  # Orange, Green, Blue\n",
    "colors = ['aqua', 'blue', 'darkred']\n",
    "\n",
    "for i_t in range(len(clean_otline_data)):\n",
    "# for i_t in range(1,2):\n",
    "    # 绘制背景数据（可选）\n",
    "    data = jg_ellipse_clean_data[i_t]\n",
    "    single_color_cmap = ListedColormap([colors[i_t]])\n",
    "    cs = ax.contourf(lon, lat, data, \n",
    "                     cmap=single_color_cmap,\n",
    "                     # cmap=cmaplist[i_t],\n",
    "                     alpha=0.1,\n",
    "                     transform=ccrs.PlateCarree())\n",
    "\n",
    "\n",
    "    # for item in t_dict[i_t]:\n",
    "    #     cid = item['id']\n",
    "    #     cnt = item['contour']\n",
    "    # \n",
    "    #     # 轮廓点坐标是 OpenCV 格式：[[[x1,y1]], [[x2,y2]], ...] → 提取为 (x, y)\n",
    "    #     x_list = [pt[0][0] for pt in cnt]\n",
    "    #     y_list = [pt[0][1] for pt in cnt]\n",
    "    # \n",
    "    #     for i in range(len(x_list)):\n",
    "    #         x_list[i] = lon[x_list[i]].item()\n",
    "    #     for i in range(len(y_list)):\n",
    "    #         y_list[i] = lat[y_list[i]].item()\n",
    "    # \n",
    "    #     cx = np.mean(x_list)  # 轮廓中心横坐标\n",
    "    #     cy = np.mean(y_list)\n",
    "    # \n",
    "    # \n",
    "    # \n",
    "    #     # 在图上绘制轮廓线\n",
    "    #     ax.plot(x_list, y_list, color='black', linewidth=1.2, transform=ccrs.PlateCarree())\n",
    "    # \n",
    "    #     # 在轮廓中心绘制文本标签\n",
    "    #     ax.text(cx, cy, f'ID:{cid}', fontsize=10, color='black',\n",
    "    #             ha='center', va='center', weight='bold',\n",
    "    #             bbox=dict(facecolor='white', alpha=0.7, edgecolor='none', pad=1),\n",
    "    #             transform=ccrs.PlateCarree())\n",
    "    "
   ],
   "outputs": [],
   "execution_count": null
  },
  {
   "cell_type": "code",
   "metadata": {},
   "source": [
    "# # 计算全局的最小值和最大值\n",
    "from matplotlib.colors import Normalize \n",
    "def tackSubImg(\n",
    "        init_tb_data_list,\n",
    "        clean_data,\n",
    "        lon, \n",
    "        lat , \n",
    "        savepth,\n",
    "        dpi = 300,\n",
    "        ):\n",
    "    \"\"\"\n",
    "    clean_data: list, 每个元素代表一个时刻的二维底图数据， \n",
    "    tracked_boxesPoints_list: list, 每个元素包含一个时刻的框的信息\n",
    "    savepth: 画出的图的保存路径\n",
    "    若想调整画图范围， 则修改 i_ax.set_extent([90, 180, -10, 30], crs=ccrs.PlateCarree())\n",
    "    \"\"\"\n",
    "    fig, ax = plt.subplots(2, 3, figsize=(9, 4), subplot_kw={'projection': ccrs.PlateCarree()},)\n",
    "    global_min = min([data.min() for data in init_tb_data_list + clean_data])\n",
    "    global_max = max([data.max() for data in init_tb_data_list + clean_data])\n",
    "    \n",
    "    norm = Normalize(vmin=global_min, vmax=global_max)\n",
    "    # 添加网格和底图元素\n",
    "    for i_row in range(ax.shape[0]):\n",
    "        for i_col in range(ax.shape[1]):\n",
    "            # 添加经纬度网格线并显示标签\n",
    "            i_ax = ax[i_row, i_col]\n",
    "            grid = i_ax.gridlines(draw_labels=True, linewidth=0)\n",
    "            grid.top_labels = False\n",
    "            grid.right_labels = False \n",
    "            if i_col == 0 :\n",
    "                grid.left_labels = True\n",
    "            else:\n",
    "                grid.left_labels = False\n",
    "    \n",
    "            i_ax.add_feature(cfeature.BORDERS, edgecolor='lightgray', alpha=0.5)\n",
    "            i_ax.add_feature(cfeature.COASTLINE, edgecolor='lightgray', alpha=0.5)\n",
    "            i_ax.set_extent([90, 180, -10, 30], crs=ccrs.PlateCarree())\n",
    "    \n",
    "    \n",
    "\n",
    "    contourf_instance = None\n",
    "    extend = 'neither'  # 使用默认值\n",
    "    my_cmap = 'jet'\n",
    "    for i_t in range(len(init_tb_data_list)):\n",
    "        for i in range(2):   # 两组图，一组为原图，一组为识别出来的图\n",
    "            if i == 0:   # 原图\n",
    "                # 取出 数据小于241的数据\n",
    "                init_tb_data = np.where(init_tb_data_list[i_t] < 241, init_tb_data_list[i_t], np.nan)\n",
    "                contourf_plot = ax[i, i_t].contourf(lon, lat, init_tb_data,\n",
    "                                                    cmap=my_cmap,\n",
    "                                                    vmin=global_min,\n",
    "                                                    vmax=global_max,\n",
    "                                                    extend = extend,\n",
    "                                                    transform=ccrs.PlateCarree())\n",
    "                ax[i, i_t].set_title(f't={i_t}')\n",
    "                \n",
    "                if contourf_instance is None:\n",
    "                    contourf_instance = contourf_plot\n",
    "            \n",
    "            else:  # 筛过数据的图 \n",
    "                ax[i, i_t].contourf(lon, lat,   \n",
    "                                    clean_data[i_t],\n",
    "                                    cmap=my_cmap,\n",
    "                                    vmin=global_min,\n",
    "                                    vmax=global_max,\n",
    "                                    extend = extend,\n",
    "                                    transform=ccrs.PlateCarree())\n",
    "\n",
    "    cbar_ax = fig.add_axes([0.92, 0.2, 0.015, 0.6])  # [left, bottom, width, height]\n",
    "    cbar = fig.colorbar(contourf_instance, cax=cbar_ax, orientation='vertical', extend = extend)\n",
    "    cbar.set_label('单位: K', fontsize=10)\n",
    "    # 保存\n",
    "    plt.savefig(savepth, dpi=dpi, bbox_inches='tight', pad_inches=0.1)\n",
    "    plt.show()"
   ],
   "outputs": [],
   "execution_count": null
  },
  {
   "cell_type": "code",
   "metadata": {},
   "source": [
    "# print(\"查看数据范围:\")\n",
    "# a= np.concatenate(clean_otline_data)\n",
    "# b = np.concatenate(tb_data_list)\n",
    "# print(\"已经清理过的数据有：\")\n",
    "# print(np.nanmin(a))\n",
    "# print(np.nanmax(a))\n",
    "# \n",
    "# print(\"已经处理的数据有：\")\n",
    "# print(np.nanmin(np.where(b<241, b, np.nan)))\n",
    "# print(np.nanmax(np.where(b<241, b, np.nan)))"
   ],
   "outputs": [],
   "execution_count": null
  },
  {
   "cell_type": "code",
   "metadata": {},
   "source": [
    "# 画图 \n",
    "savepth = r'D:\\00my_Github_Resp\\02Atmos_graduate\\MCS_recognition\\img\\test.png'\n",
    "tackSubImg(tb_data_list,\n",
    "           jg_ellipse_clean_data,\n",
    "           lon, \n",
    "           lat, \n",
    "           savepth,)\n"
   ],
   "outputs": [],
   "execution_count": null
  },
  {
   "attachments": {},
   "cell_type": "markdown",
   "metadata": {},
   "source": [
    "## 画出椭圆"
   ]
  },
  {
   "cell_type": "code",
   "metadata": {},
   "source": [],
   "outputs": [],
   "execution_count": null
  },
  {
   "cell_type": "code",
   "metadata": {},
   "source": [],
   "outputs": [],
   "execution_count": null
  },
  {
   "cell_type": "code",
   "metadata": {},
   "source": [],
   "outputs": [],
   "execution_count": null
  },
  {
   "cell_type": "code",
   "metadata": {},
   "source": [],
   "outputs": [],
   "execution_count": null
  },
  {
   "cell_type": "code",
   "metadata": {},
   "source": [],
   "outputs": [],
   "execution_count": null
  },
  {
   "cell_type": "code",
   "metadata": {},
   "source": [
    "# # 接着使用不同的函数 \n",
    "# # lonlat_pts_list = outline2lonlat(mch_area_elip_list, lon , lat )\n",
    "# data ,  datamask = get_dataAndmask(outline_mask, mch_area_elip_list, tb_data_list[0])\n",
    "\n"
   ],
   "outputs": [],
   "execution_count": null
  },
  {
   "cell_type": "code",
   "metadata": {},
   "source": [],
   "outputs": [],
   "execution_count": null
  },
  {
   "cell_type": "code",
   "metadata": {},
   "source": [],
   "outputs": [],
   "execution_count": null
  },
  {
   "cell_type": "code",
   "metadata": {},
   "source": [
    "# # 在地图上绘制出椭圆\n",
    "# _, binary_outline_mask = cv2.threshold(outline_mask, 127, 255, cv2.THRESH_BINARY)\n",
    "\n",
    "# # 将二值图像转换为三通道图像以便画彩色椭圆\n",
    "# binary_outline_mask_color = cv2.cvtColor(binary_outline_mask, cv2.COLOR_GRAY2BGR)\n",
    "\n",
    "# # 在原图上绘制椭圆\n",
    "# for cnt in mch_area_elip_list:\n",
    "#     if len(cnt) >= 5:  # 确保有足够的点来拟合椭圆\n",
    "#         ellipse = cv2.fitEllipse(cnt)\n",
    "#         cv2.ellipse(binary_outline_mask_color, ellipse, color=(0, 0, 255), thickness=2)  # 使用红色绘制椭圆\n",
    "\n",
    "\n",
    "# # 显示/保存结果\n",
    "# cv2.imshow(\"Ellipses on Binary Outline Mask\", binary_outline_mask_color)\n",
    "# cv2.waitKey(0)\n",
    "# cv2.destroyAllWindows()\n"
   ],
   "outputs": [],
   "execution_count": null
  },
  {
   "cell_type": "code",
   "metadata": {},
   "source": [],
   "outputs": [],
   "execution_count": null
  },
  {
   "cell_type": "code",
   "metadata": {},
   "source": [],
   "outputs": [],
   "execution_count": null
  }
 ],
 "metadata": {
  "kernelspec": {
   "display_name": "Python 3 (ipykernel)",
   "language": "python",
   "name": "python3"
  },
  "language_info": {
   "codemirror_mode": {
    "name": "ipython",
    "version": 3
   },
   "file_extension": ".py",
   "mimetype": "text/x-python",
   "name": "python",
   "nbconvert_exporter": "python",
   "pygments_lexer": "ipython3",
   "version": "3.11.9"
  },
  "orig_nbformat": 4
 },
 "nbformat": 4,
 "nbformat_minor": 2
}
