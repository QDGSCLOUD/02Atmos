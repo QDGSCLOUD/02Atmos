{
 "cells": [
  {
   "cell_type": "code",
   "metadata": {
    "ExecuteTime": {
     "end_time": "2025-07-01T22:21:19.483544Z",
     "start_time": "2025-07-01T22:21:17.177730Z"
    }
   },
   "source": [
    "import xarray as xr \n",
    "import cartopy\n",
    "import xarray as xr\n",
    "import numpy as np\n",
    "import matplotlib.pyplot as plt\n",
    "import cartopy.crs as ccrs\n",
    "import cartopy.feature as cfeature \n",
    "import cv2\n",
    "from matplotlib.patches import Polygon\n",
    "from matplotlib.lines import Line2D"
   ],
   "outputs": [],
   "execution_count": 1
  },
  {
   "cell_type": "code",
   "metadata": {
    "ExecuteTime": {
     "end_time": "2025-07-01T22:21:22.513485Z",
     "start_time": "2025-07-01T22:21:19.485555Z"
    }
   },
   "source": [
    "# 读取nc数据\n",
    "initData = xr.open_dataset(r\"C:\\Users\\2892706668\\Desktop\\GRIDSAT-B1.2023.07.23.03.v02r01.nc\")\n",
    "initData_t2 = xr.open_dataset(r\"C:\\Users\\2892706668\\Desktop\\GRIDSAT-B1.2023.07.23.06.v02r01.nc\")\n",
    "initData_t3 = xr.open_dataset(r\"C:\\Users\\2892706668\\Desktop\\GRIDSAT-B1.2023.07.23.09.v02r01.nc\")\n"
   ],
   "outputs": [],
   "execution_count": 2
  },
  {
   "metadata": {
    "ExecuteTime": {
     "end_time": "2025-07-01T22:21:22.520129Z",
     "start_time": "2025-07-01T22:21:22.515617Z"
    }
   },
   "cell_type": "code",
   "source": [
    "# # 纬度范围:[-60， 60]\n",
    "# initData = initData.sel(lat = slice(-10, 30)  , lon = slice(90, 180))       # , lon = slice(90, 180)\n",
    "# initData_t2 = initData_t2.sel(lat = slice(-10, 30)  , lon = slice(90, 180) )  \n",
    "# initData_t3 = initData_t3.sel(lat = slice(-10, 30) , lon = slice(90, 180) )"
   ],
   "outputs": [],
   "execution_count": 3
  },
  {
   "metadata": {
    "ExecuteTime": {
     "end_time": "2025-07-01T22:21:22.540123Z",
     "start_time": "2025-07-01T22:21:22.522134Z"
    }
   },
   "cell_type": "code",
   "source": [
    "initData = initData.sel(lat = slice(-60, 60)   )        \n",
    "initData_t2 = initData_t2.sel(lat = slice(-60, 60)   )  \n",
    "initData_t3 = initData_t3.sel(lat = slice(-60, 60)   )"
   ],
   "outputs": [],
   "execution_count": 4
  },
  {
   "metadata": {
    "ExecuteTime": {
     "end_time": "2025-07-01T22:21:22.559071Z",
     "start_time": "2025-07-01T22:21:22.545135Z"
    }
   },
   "cell_type": "code",
   "source": "print(initData.irwin_cdr.shape)\n",
   "outputs": [
    {
     "name": "stdout",
     "output_type": "stream",
     "text": [
      "(1, 1715, 5143)\n"
     ]
    }
   ],
   "execution_count": 5
  },
  {
   "metadata": {
    "ExecuteTime": {
     "end_time": "2025-07-01T22:21:22.567624Z",
     "start_time": "2025-07-01T22:21:22.562090Z"
    }
   },
   "cell_type": "code",
   "source": [
    "lon = initData.lon\n",
    "lat = initData.lat"
   ],
   "outputs": [],
   "execution_count": 6
  },
  {
   "metadata": {},
   "cell_type": "markdown",
   "source": "# 椭圆拟合(离心率判断）"
  },
  {
   "metadata": {
    "ExecuteTime": {
     "end_time": "2025-07-01T22:21:22.579950Z",
     "start_time": "2025-07-01T22:21:22.569633Z"
    }
   },
   "cell_type": "code",
   "source": [
    "def ellipse_fit(num_labels, labels):\n",
    "    \"\"\" \n",
    "    :param num_labels:  连续区域组件的个数\n",
    "    :param labels:    二维数组，  与原始数据的形状相同\n",
    "    :return:   criteria_ellipse_id_list,  一个list , 存储了符合离心率条件的 像素label id \n",
    "    \"\"\"\n",
    "    \"\"\" 下方那个进行椭圆拟合并判断离心率\"\"\"\n",
    "    criteria_ellipse_id_list = []\n",
    "    for i_label in range(1, num_labels):  # 跳过背景标签0\n",
    "        # 提取当前标签对应的像素坐标\n",
    "        coords = np.column_stack(np.where(labels == i_label))\n",
    "        print(\"coords 的 shape : \")\n",
    "        print(coords.shape)\n",
    "        ellipse = cv2.fitEllipse(coords)    # 椭圆拟合的点不一定够， 所以coords的length 后面需要限制一下。 之后再改一下代码\n",
    "        # 计算离心率\n",
    "        ellipse_eccentricity = np.sqrt(1 - (ellipse[1][0] / ellipse[1][1]) ** 2)\n",
    "        # 符合离心率条件的 i_label \n",
    "        if ellipse_eccentricity > 0.4:\n",
    "            criteria_ellipse_id_list.append(i_label)\n",
    "    criteria_ellipse_id_list = np.array(criteria_ellipse_id_list)\n",
    "    return criteria_ellipse_id_list\n"
   ],
   "outputs": [],
   "execution_count": 7
  },
  {
   "metadata": {},
   "cell_type": "markdown",
   "source": "# 连续区域识别  "
  },
  {
   "metadata": {},
   "cell_type": "markdown",
   "source": "## 找出需要的亮温区"
  },
  {
   "metadata": {
    "ExecuteTime": {
     "end_time": "2025-07-01T22:21:22.596835Z",
     "start_time": "2025-07-01T22:21:22.581975Z"
    }
   },
   "cell_type": "code",
   "source": [
    "# 找边界\n",
    "def  get_Component_Info(tb): \n",
    "    \"\"\"\n",
    "    stats: (6113, 5)\n",
    "    centroids : (6113, 2)\n",
    "    labels  的形状与原数据一样\n",
    "    所有的坐标其实都是原来数据的索引  \n",
    "    \"\"\"\n",
    "    \n",
    "    # 阈值处理：找出所有Tb < 225K的像素\n",
    "    _, cold_cores = cv2.threshold(tb, 225, 255, cv2.THRESH_BINARY_INV)\n",
    "    cold_cores = cold_cores.astype(np.uint8)   # # 转换为8位无符号整型以便后续处理\n",
    "    \n",
    "    # 同样地，找出所有Tb < 241K的像素\n",
    "    _, cold_regions = cv2.threshold(tb, 241, 255, cv2.THRESH_BINARY_INV)\n",
    "    cold_regions = cold_regions.astype(np.uint8)\n",
    "    \n",
    "    # 使用形态学膨胀操作扩展冷云核心\n",
    "    kernel = np.ones((1,1), np.uint8)  # 定义一个1x1的结构元素\n",
    "    ccs_map = cv2.dilate(cold_cores, kernel, iterations= 1)\n",
    "    \n",
    "    # 只保留那些在Tb < 241K范围内的扩展区域\n",
    "    ccs_map = cv2.bitwise_and(ccs_map, cold_regions)\n",
    "    \n",
    "    # 拿出真实的值  \n",
    "    # print(\"\\n所有符合条件的 Tb 值：\\n\", tb[ccs_map == 255])\n",
    "\n",
    "    # 连通区域部分\n",
    "    num_labels, labels, stats, centroids = cv2.connectedComponentsWithStats(ccs_map.astype(np.uint8),  connectivity=8)\n",
    "\n",
    "    return ccs_map , num_labels, labels, stats, centroids\n",
    " \n"
   ],
   "outputs": [],
   "execution_count": 8
  },
  {
   "metadata": {
    "ExecuteTime": {
     "end_time": "2025-07-01T22:21:22.617249Z",
     "start_time": "2025-07-01T22:21:22.600901Z"
    }
   },
   "cell_type": "code",
   "source": [
    "def  choice_ccsOfGreater4e4(tb):\n",
    "    ccs_map , num_labels, labels, stats, centroids = get_Component_Info(tb)\n",
    "    criteria_1 = 4e4\n",
    "    # 计算每个像素对应的真实面积（km²）      \n",
    "    R = 6371             # 地球半径（km）\n",
    "    dlon = 0.07          # Grid Sat B1 的分辨率 0.07度  * 0.07度\n",
    "    dlat = 0.07\n",
    "    dlon_rad = np.radians(dlon)  # 转换为弧度 , 弧度单位rad\n",
    "    dlat_rad = np.radians(dlat)\n",
    "    \n",
    "    # 创建一个与 cold_regions 形状相同的面积矩阵（每个像素的面积）\n",
    "    area_per_pixel_km2 = np.zeros_like(ccs_map, dtype=np.float32)\n",
    "    for i in range(ccs_map.shape[0]):  # 遍历每一行（纬度）\n",
    "        lat_rad = np.radians(initData.lat[i])  # 当前行的纬度（假设已知）\n",
    "        area = (R ** 2) * dlon_rad * dlat_rad * np.cos(lat_rad)\n",
    "        area_per_pixel_km2[i, :] = area\n",
    "    \n",
    "    #  对每个连通区域求和，得到真实面积\n",
    "    real_areas_km2 = np.zeros(num_labels, dtype=np.float32)\n",
    "    for label_id in range(1, num_labels):  # 忽略背景（label 0）\n",
    "        mask = (labels == label_id)\n",
    "        real_area = np.sum(area_per_pixel_km2[mask])\n",
    "        real_areas_km2[label_id] = real_area\n",
    "    # # 打印所有区域的真实面积（单位 km²）\n",
    "    # print(real_areas_km2[1:])               # 忽略背景  , real_areas_km2是一维数组，对应每一个id\n",
    "    \n",
    "    \n",
    "    # 判断条件\n",
    "    #1. 真实面积大于4e4\n",
    "    area_greater_4e4_ids = np.where(real_areas_km2 >  criteria_1)[0]  # 返回的是一个元素， 所以要取出array需要用[0] \n",
    "    # 符合条件的label id  \n",
    "    # criteria_1_mcs_label_id = np.where(real_areas_km2 >  criteria_1)[0]      # ccs > 4e4  的id  , 对应 true 和  false\n",
    "    \n",
    "    # 2. 根据面积拿到一组 像素label id ， 接着计算离心率， 判断离心率大于0.4\n",
    "    criteria_area_ecc_id_list = []\n",
    "\n",
    "    for i_label in area_greater_4e4_ids:  # 跳过背景标签0, \n",
    "        # 提取当前标签对应的像素坐标\n",
    "        # print(\"i_label\", i_label)\n",
    "        # print(\"area_greater_4e4_ids 的 shpae\", area_greater_4e4_ids.shape)\n",
    "        # print(area_greater_4e4_ids)\n",
    "        # \n",
    "        coords = np.column_stack(np.where(labels == i_label))\n",
    "        ellipse = cv2.fitEllipse(coords)    # 椭圆拟合的点不一定够， 所以coords的length 后面需要限制一下。 之后再改一下代码\n",
    "        # 计算离心率\n",
    "        ellipse_eccentricity = np.sqrt(1 - (ellipse[1][0] / ellipse[1][1]) ** 2)\n",
    "        # 符合离心率条件的 i_label \n",
    "        if ellipse_eccentricity > 0.4:\n",
    "            criteria_area_ecc_id_list.append(i_label)\n",
    "    criteria_area_ecc_id_list = np.array(criteria_area_ecc_id_list)\n",
    "\n",
    "    \"\"\" 至此， 对于面积大于4e4km^2, 离心率大于0.4的判断   都完成了\"\"\"\n",
    "    criteria_1_mcs_label_id  = criteria_area_ecc_id_list\n",
    "    \n",
    "    return  ccs_map, num_labels, labels, stats, centroids,criteria_1_mcs_label_id\n",
    " "
   ],
   "outputs": [],
   "execution_count": 9
  },
  {
   "metadata": {
    "ExecuteTime": {
     "end_time": "2025-07-01T22:21:22.626800Z",
     "start_time": "2025-07-01T22:21:22.620174Z"
    }
   },
   "cell_type": "code",
   "source": [
    "# \"\"\" 这个函数还没有使用\"\"\"\n",
    "# def get_lonlat_trans_coords(stats_coords_info,lon, lat,):\n",
    "#     \"\"\" 根据输入的stats 坐标点 \"\"\"\n",
    "#     \"\"\"\n",
    "#     stats_coords_info:  list,例如[[x,y,w,h],], 该列表中的每个元素都是 [x,y,w,h]   \n",
    "#     lon:  从dataset中裁剪的lon, 例如： init_data.lon\n",
    "#     lat: 从dataset中裁剪的lat,例如： init_data.lat \n",
    "#     \"\"\"\n",
    "#     points_list = []\n",
    "#     for i_point_info in stats_coords_info:\n",
    "#         x_min, y_top, width, height = i_point_info\n",
    "#         points = [\n",
    "#         (lon[x_min].item(), lat[y_top ].item()  ),   # 左上\n",
    "#         (lon[x_min + width].item() , lat[y_top ].item() ),   # 右上\n",
    "#         (lon[x_min + width].item() , lat[y_top + height].item()),   # 右下\n",
    "#         (lon[x_min].item(), lat[y_top + height].item())    # 左下\n",
    "#          ]\n",
    "#         points_list.append(points)"
   ],
   "outputs": [],
   "execution_count": 10
  },
  {
   "metadata": {
    "ExecuteTime": {
     "end_time": "2025-07-01T22:21:22.642982Z",
     "start_time": "2025-07-01T22:21:22.629812Z"
    }
   },
   "cell_type": "code",
   "source": [
    "def get_dataBy_id(labels, creteria_label_id , stats, tb):\n",
    "    \"\"\" \n",
    "    :param labels: 是一个二维数组， 形状与原始数据相同\n",
    "    :creteria_label_id :  是一个一维数组， 也就是符合条件的id \n",
    "    :new_tb : 是二维数组， 得到真实的值\n",
    "    \"\"\"    \n",
    "    final_mask = np.isin(labels, creteria_label_id)\n",
    "    cleaned_tb = np.full_like(tb, np.nan)\n",
    "    cleaned_tb[final_mask] = tb[final_mask]\n",
    "    points_list = []\n",
    "    current_boxes = []\n",
    "    for i_id in creteria_label_id:\n",
    "        x_min, y_top, width, height, area = stats[i_id]\n",
    "        points = [\n",
    "        (initData.lon[x_min].item(), initData.lat[y_top ].item()  ),   # 左上\n",
    "        (initData.lon[x_min + width].item() , initData.lat[y_top ].item() ),   # 右上\n",
    "        (initData.lon[x_min + width].item() , initData.lat[y_top + height].item()),   # 右下\n",
    "        (initData.lon[x_min].item(), initData.lat[y_top + height].item())    # 左下\n",
    "         ]\n",
    "\n",
    "        points_list.append(points)\n",
    "        # current_boxes 每个元素都是stats元素的x, y, w, h, area, 以及 对应的 id\n",
    "        # current_boxes = stats[creteria_label_id][:,0:-1]  # 也就是拿出所有的x , y,  w, h \n",
    "        current_boxes.append([x_min, y_top, width, height, area, i_id])\n",
    "    # 变为numpy类型\n",
    "    current_boxes = np.array(current_boxes)\n",
    "\n",
    "    return cleaned_tb, points_list ,  current_boxes \n"
   ],
   "outputs": [],
   "execution_count": 11
  },
  {
   "metadata": {
    "ExecuteTime": {
     "end_time": "2025-07-01T22:21:23.239428Z",
     "start_time": "2025-07-01T22:21:22.645990Z"
    }
   },
   "cell_type": "code",
   "source": [
    "tb = initData.irwin_cdr[0].to_numpy()\n",
    "tb2 = initData_t2.irwin_cdr[0].to_numpy()\n",
    "tb3 = initData_t3.irwin_cdr[0].to_numpy()\n",
    "\n",
    "all_t_tbdata = [tb, tb2, tb3]                \n",
    "\n",
    "# print(tb)\n",
    "# # 取出tb的非nan的值\n",
    "# print(tb[~np.isnan(tb)].max())\n",
    "# print(tb[~np.isnan(tb)].min())"
   ],
   "outputs": [],
   "execution_count": 12
  },
  {
   "metadata": {
    "ExecuteTime": {
     "end_time": "2025-07-01T22:22:27.771334Z",
     "start_time": "2025-07-01T22:21:23.240542Z"
    }
   },
   "cell_type": "code",
   "source": [
    "# 第一个时刻  、  第二个时刻 \n",
    "ccsmap, num_labels, labels, stats, centroids,criteria_1_mcs_label_id = choice_ccsOfGreater4e4(tb)\n",
    "ccsmap2, num_labels2, labels2, stats2, centroids2 , criteria_1_mcs_label_id2 = choice_ccsOfGreater4e4(tb2)\n",
    "ccsmap3, num_labels3 , labels3, stats3, centroids3 , criteria_1_mcs_label_id3 = choice_ccsOfGreater4e4(tb3)\n"
   ],
   "outputs": [],
   "execution_count": 13
  },
  {
   "metadata": {
    "ExecuteTime": {
     "end_time": "2025-07-01T22:22:27.784456Z",
     "start_time": "2025-07-01T22:22:27.777676Z"
    }
   },
   "cell_type": "code",
   "source": [
    "variable_t_labels_list = [labels, labels2, labels3]\n",
    "variable_t_stats_list = [stats, stats2, stats3]\n",
    "centroids_list = [centroids, centroids2, centroids3]"
   ],
   "outputs": [],
   "execution_count": 14
  },
  {
   "metadata": {
    "ExecuteTime": {
     "end_time": "2025-07-01T22:22:28.141809Z",
     "start_time": "2025-07-01T22:22:27.787Z"
    }
   },
   "cell_type": "code",
   "source": [
    "# 获得符合条件的id数据\n",
    "criteria1_tbdata, points_list ,  current_boxes  = get_dataBy_id(labels, criteria_1_mcs_label_id , stats, tb)   \n",
    "criteria1_tbdata2, points_list2, next_boxes = get_dataBy_id(labels2, criteria_1_mcs_label_id2 , stats2,tb2)   \n",
    "criteria1_tbdata3, points_list3, next_boxes3 = get_dataBy_id(labels3, criteria_1_mcs_label_id3 , stats3,tb3)\n"
   ],
   "outputs": [],
   "execution_count": 15
  },
  {
   "metadata": {
    "ExecuteTime": {
     "end_time": "2025-07-01T22:22:28.149448Z",
     "start_time": "2025-07-01T22:22:28.144814Z"
    }
   },
   "cell_type": "code",
   "source": [
    "# cold_cores_225 = draw_img(initData.lon, initData.lat, cold_cores )\n",
    "# cold_cores_241 = draw_img(initData.lon, initData.lat, cold_regions )\n",
    "# cold_cores_map = draw_img(initData.lon, initData.lat, ccs_map )"
   ],
   "outputs": [],
   "execution_count": 16
  },
  {
   "metadata": {},
   "cell_type": "markdown",
   "source": "## 实现不同时刻覆盖的识别"
  },
  {
   "metadata": {
    "ExecuteTime": {
     "end_time": "2025-07-01T22:22:28.175123Z",
     "start_time": "2025-07-01T22:22:28.152457Z"
    }
   },
   "cell_type": "code",
   "source": [
    "def calculate_overlap_area(rect1, rect2):\n",
    "    \"\"\"\n",
    "    计算两个矩形的重叠面积。\n",
    "    :param rect1: 第一个矩形，格式为 (x, y, width, height)\n",
    "    :param rect2: 第二个矩形，格式为 (x, y, width, height)\n",
    "    :return: 重叠面积。如果没有重叠，则返回0。\n",
    "    \"\"\"\n",
    "    # 解包矩形参数\n",
    "    x1, y1, w1, h1 = rect1\n",
    "    x2, y2, w2, h2 = rect2\n",
    "    area1 = w1 * h1\n",
    "    area2 = w2 * h2\n",
    "\n",
    "    # 计算x轴方向上的重叠\n",
    "    left = max(x1, x2)\n",
    "    right = min(x1 + w1, x2 + w2)\n",
    "    overlap_x = max(0, right - left)\n",
    "\n",
    "    # 计算y轴方向上的重叠\n",
    "    top = max(y1, y2)\n",
    "    bottom = min(y1 + h1, y2 + h2)\n",
    "    overlap_y = max(0, bottom - top)\n",
    "    overlap_area = overlap_x * overlap_y\n",
    "    ration1 = overlap_area/area1\n",
    "    ration2 = overlap_area/area2\n",
    "    return max(ration1, ration2)\n",
    "# # # 示例调用\n",
    "# rectA = (100, 150, 200, 100)  # 矩形A的坐标和尺寸\n",
    "# rectB = (150, 175, 100, 150)  # 矩形B的坐标和尺寸\n",
    "# \n",
    "# overlap_area = calculate_overlap_area(rectA, rectB)\n",
    "# print(\"重叠面积:\", overlap_area)   "
   ],
   "outputs": [],
   "execution_count": 17
  },
  {
   "metadata": {
    "ExecuteTime": {
     "end_time": "2025-07-01T22:22:28.191889Z",
     "start_time": "2025-07-01T22:22:28.178133Z"
    }
   },
   "cell_type": "code",
   "source": [
    "\"\"\"  真正的iou计算\"\"\"\n",
    "# def calculate_iou(box1, box2):\n",
    "#     \"\"\"\n",
    "#     计算两个矩形框之间的 IoU。\n",
    "#     box: (x, y, w, h)\n",
    "#     \"\"\"\n",
    "#     x1, y1, w1, h1 = box1\n",
    "#     x2, y2, w2, h2 = box2\n",
    "# \n",
    "#     # 交集坐标\n",
    "#     left = max(x1, x2)\n",
    "#     right = min(x1 + w1, x2 + w2)\n",
    "#     overlap_x = max(0, right - left)\n",
    "# \n",
    "#     top = max(y1, y2)\n",
    "#     bottom = min(y1 + h1, y2 + h2)\n",
    "#     overlap_y = max(0, bottom - top)\n",
    "# \n",
    "#     overlap_area = overlap_x * overlap_y\n",
    "#     area1 = w1 * h1\n",
    "#     area2 = w2 * h2\n",
    "#     union_area = area1 + area2 - overlap_area\n",
    "# \n",
    "#     if union_area == 0:\n",
    "#         return 0.0\n",
    "#     return overlap_area / union_area"
   ],
   "outputs": [
    {
     "data": {
      "text/plain": [
       "'  真正的iou计算'"
      ]
     },
     "execution_count": 18,
     "metadata": {},
     "output_type": "execute_result"
    }
   ],
   "execution_count": 18
  },
  {
   "metadata": {
    "ExecuteTime": {
     "end_time": "2025-07-01T22:22:28.211553Z",
     "start_time": "2025-07-01T22:22:28.193901Z"
    }
   },
   "cell_type": "code",
   "source": [
    "def draw_boximg(lon, lat, tbdata, points_list,centroids , criteria_1_mcs_label_id ):\n",
    "    # 设置防止中文乱码\n",
    "    plt.rcParams['font.sans-serif'] = ['SimHei']\n",
    "    plt.rcParams['axes.unicode_minus'] = False\n",
    "    \n",
    "    # 创建图形和投影设置\n",
    "    fig, ax = plt.subplots(figsize=(10, 8), subplot_kw={'projection': ccrs.PlateCarree()})\n",
    "    ax.gridlines(draw_labels=True)\n",
    "    ax.add_feature(cfeature.BORDERS)\n",
    "    ax.add_feature(cfeature.COASTLINE)\n",
    "    ax.set_extent([90, 180, -10, 30], crs=ccrs.PlateCarree())\n",
    "    # 绘制图像数据\n",
    "    img = ax.contourf(lon,lat , \n",
    "                      tbdata,\n",
    "                      cmap=\"coolwarm\", \n",
    "          transform=ccrs.PlateCarree())\n",
    "    \n",
    "    current_centroids = centroids[criteria_1_mcs_label_id]\n",
    "    for i, points in enumerate(points_list):\n",
    "        # 画出方框\n",
    "        polygon = Polygon(points, \n",
    "                          closed=True, \n",
    "                          edgecolor='darkred',\n",
    "                          facecolor='none', \n",
    "                          linewidth=1, \n",
    "                          transform=ccrs.PlateCarree())\n",
    "        ax.add_patch(polygon)\n",
    "    \n",
    "        # 标记处 stats对应的点, 也就是画框的起始点   \n",
    "        # x_min = current_boxes[:,0][i]\n",
    "        # y_top = current_boxes[:,1][i]\n",
    "        # ax.scatter(lon[x_min], lat[y_top],\n",
    "        #            s=15, \n",
    "        #            c='b', \n",
    "        #            edgecolors='black', \n",
    "        #            linewidth=1,\n",
    "        #            transform=ccrs.PlateCarree(),\n",
    "        #            )\n",
    "        \n",
    "        # # 画出质心位置\n",
    "        # i_centroid_x_index = current_centroids[i][0]     # 忽略背景\n",
    "        # i_centroid_y_index = current_centroids[i][1]     # 忽略背景 \n",
    "        # ax.scatter(lon[int(i_centroid_x_index)],   # 由于质心不一定为整数， 但是索引要求取整，故用int\n",
    "        #            lat[int(i_centroid_y_index)],\n",
    "        #        s=15, \n",
    "        #        c='g', \n",
    "        #        edgecolors='g', \n",
    "        #        linewidth=1,\n",
    "        #        transform=ccrs.PlateCarree(),\n",
    "        #        )\n",
    "    \n",
    "    plt.show()"
   ],
   "outputs": [],
   "execution_count": 19
  },
  {
   "metadata": {
    "ExecuteTime": {
     "end_time": "2025-07-01T22:22:28.230134Z",
     "start_time": "2025-07-01T22:22:28.214564Z"
    }
   },
   "cell_type": "code",
   "source": [
    "def draw_track_box_img(lon, lat, tbdata, points_list  ):\n",
    "    # 设置防止中文乱码\n",
    "    plt.rcParams['font.sans-serif'] = ['SimHei']\n",
    "    plt.rcParams['axes.unicode_minus'] = False\n",
    "    \n",
    "    # 创建图形和投影设置\n",
    "    fig, ax = plt.subplots(figsize=(10, 8), subplot_kw={'projection': ccrs.PlateCarree()})\n",
    "    ax.gridlines(draw_labels=True)\n",
    "    ax.add_feature(cfeature.BORDERS)\n",
    "    ax.add_feature(cfeature.COASTLINE)\n",
    "    # ax.set_extent([90, 180, -10, 30], crs=ccrs.PlateCarree())\n",
    "    # 绘制图像数据\n",
    "    img = ax.contourf(lon,lat , \n",
    "                      tbdata,\n",
    "                      cmap=\"coolwarm\", \n",
    "          transform=ccrs.PlateCarree())\n",
    "    \n",
    "    for i, points in enumerate(points_list):\n",
    "        # 画出方框\n",
    "        polygon = Polygon(points, \n",
    "                          closed=True, \n",
    "                          edgecolor='blue',\n",
    "                          facecolor='none', \n",
    "                          linewidth=1, \n",
    "                          transform=ccrs.PlateCarree())\n",
    "        ax.add_patch(polygon)\n",
    "    \n",
    "        # 标记处 stats对应的点, 也就是画框的起始点   \n",
    "        # x_min = current_boxes[:,0][i]\n",
    "        # y_top = current_boxes[:,1][i]\n",
    "        # ax.scatter(lon[x_min], lat[y_top],\n",
    "        #            s=15, \n",
    "        #            c='b', \n",
    "        #            edgecolors='black', \n",
    "        #            linewidth=1,\n",
    "        #            transform=ccrs.PlateCarree(),\n",
    "        #            )\n",
    "        \n",
    "        # # 画出质心位置\n",
    "        # i_centroid_x_index = current_centroids[i][0]     # 忽略背景\n",
    "        # i_centroid_y_index = current_centroids[i][1]     # 忽略背景 \n",
    "        # ax.scatter(lon[int(i_centroid_x_index)],   # 由于质心不一定为整数， 但是索引要求取整，故用int\n",
    "        #            lat[int(i_centroid_y_index)],\n",
    "        #        s=15, \n",
    "        #        c='g', \n",
    "        #        edgecolors='g', \n",
    "        #        linewidth=1,\n",
    "        #        transform=ccrs.PlateCarree(),\n",
    "        #        )\n",
    "    \n",
    "    plt.show()"
   ],
   "outputs": [],
   "execution_count": 20
  },
  {
   "metadata": {
    "ExecuteTime": {
     "end_time": "2025-07-01T22:22:28.239267Z",
     "start_time": "2025-07-01T22:22:28.233144Z"
    }
   },
   "cell_type": "code",
   "source": [
    "# # 第一个时刻\n",
    "# img1  = draw_boximg(lon, lat, criteria1_tbdata, points_list,centroids , criteria_1_mcs_label_id )\n",
    "# img2 = draw_boximg(lon, lat, criteria1_tbdata2, points_list2,centroids2 , criteria_1_mcs_label_id2 )"
   ],
   "outputs": [],
   "execution_count": 21
  },
  {
   "metadata": {
    "ExecuteTime": {
     "end_time": "2025-07-01T22:22:28.260040Z",
     "start_time": "2025-07-01T22:22:28.242287Z"
    }
   },
   "cell_type": "code",
   "source": [
    "\"\"\" 识别出两个框  \"\"\"\n",
    "# def track_boxes(current_boxes, next_boxes, iou_threshold=0.5):\n",
    "#     \"\"\"\n",
    "#     追踪当前帧的框到下一帧，并识别新出现的框和消失的框。\n",
    "#     思路： 消失的框要根据  current_boxes ， 新出现的框要根据  next_boxes , 识别出了两个框\n",
    "#     :param current_boxes: list of boxes (x, y, w, h)，当前帧的框\n",
    "#     :param next_boxes: list of boxes (x, y, w, h)，下一帧的框\n",
    "#     :param iou_threshold: IoU 阈值，默认为 0.5\n",
    "#     :return: dict 包含：\n",
    "#              - 'tracked_boxes': list of (curr_box, matched_next_box)\n",
    "#              - 'disappeared_boxes': list of curr_box 没有找到匹配的\n",
    "#              - 'new_boxes': list of next_box 没有被匹配到任何 curr_box\n",
    "#     \"\"\"    \n",
    "#     tracked_boxes = []\n",
    "#     disappeared_boxes = []\n",
    "#     used_next_boxes = []  # 记录已被匹配的 next_boxes\n",
    "# \n",
    "#     # 第一步：匹配 current_boxes 到 next_boxes\n",
    "#     for current_box in current_boxes:\n",
    "#         best_match = None\n",
    "#         best_iou = 0\n",
    "#         for next_box in next_boxes:\n",
    "#             iou = calculate_overlap_area(current_box, next_box)\n",
    "#             if iou > best_iou:\n",
    "#                 best_match = next_box\n",
    "#                 best_iou = iou\n",
    "#         if best_iou >= iou_threshold:\n",
    "#             tracked_boxes.append((current_box, best_match))\n",
    "#             used_next_boxes.append(best_match)  # 标记为已使用\n",
    "#         else:\n",
    "#             disappeared_boxes.append(current_box)\n",
    "# \n",
    "#     # 第二步：找出 new_boxes（未被匹配的 next_boxes）\n",
    "#     new_boxes = [box for box in next_boxes if box not in used_next_boxes]\n",
    "# \n",
    "#     return {\n",
    "#         \"tracked_boxes\": tracked_boxes,\n",
    "#         \"disappeared_boxes\": disappeared_boxes,\n",
    "#         \"new_boxes\": new_boxes\n",
    "#     }\n"
   ],
   "outputs": [
    {
     "data": {
      "text/plain": [
       "' 识别出两个框  '"
      ]
     },
     "execution_count": 22,
     "metadata": {},
     "output_type": "execute_result"
    }
   ],
   "execution_count": 22
  },
  {
   "metadata": {
    "ExecuteTime": {
     "end_time": "2025-07-01T22:22:28.267787Z",
     "start_time": "2025-07-01T22:22:28.263051Z"
    }
   },
   "cell_type": "code",
   "source": "",
   "outputs": [],
   "execution_count": 22
  },
  {
   "metadata": {},
   "cell_type": "markdown",
   "source": "## 对框进行追踪"
  },
  {
   "metadata": {
    "ExecuteTime": {
     "end_time": "2025-07-01T22:22:28.301016Z",
     "start_time": "2025-07-01T22:22:28.269800Z"
    }
   },
   "cell_type": "code",
   "source": [
    "\"\"\"  输入已知的框进行追踪  \"\"\"      \n",
    "def track_boxes( all_t_boxes, iou_threshold=0.5):\n",
    "    \"\"\"\n",
    "    追踪当前帧的框到下一帧，并识别新出现的框和消失的框。\n",
    "    all_t_boxes: list , 每个元素都代表着一个时刻的所有的框\n",
    "    track_boxes: list , [x,y,w,h, area(像素个数), 像素的label_id] \n",
    "    :param iou_threshold: IoU 阈值，默认为 0.5\n",
    "    :return: list \n",
    "    \"\"\" \n",
    "    init_t = 0     #  表示时刻，  真实的持续时间用 t * 3  , 因为GridSat B1的时间分辨率是 3h   \n",
    "    total_tracked_ids = 0\n",
    "    all_trac_framelist = []      # 储存所有时刻的轨迹信息\n",
    "    \n",
    "\n",
    "    # 初始化box, 给其 id ， t 和  box 坐标\n",
    "    init_t_trac_framelist = []\n",
    "    for i, i_box in enumerate(all_t_boxes[0]):\n",
    "        # 给当前图片的框做标记\n",
    "        boxes_frame = {\n",
    "                    \"total_time\": init_t,           \n",
    "                    \"track_id\": total_tracked_ids, \n",
    "                    \"track_boxes\": i_box.tolist()   # 保存初始图像的 x, y,w, h, 原始像素的label_id \n",
    "                                          }\n",
    "        init_t_trac_framelist.append(boxes_frame)\n",
    "        total_tracked_ids += 1\n",
    "    all_trac_framelist.append(init_t_trac_framelist)\n",
    "    print(\" 初始化后的  total_tracked_ids： \", total_tracked_ids)\n",
    "    \n",
    "    # 从第二个时刻开始追踪\n",
    "    for t in range(1, len(all_t_boxes)):  \n",
    "        i_t_trac_framelist =[]       # 记录一个时刻的所有轨迹框 ， 也就是从 第二张 图开始记录  \n",
    "        # 前后两个时刻的所有的框  \n",
    "        current_boxes =  all_t_boxes[t-1]\n",
    "        next_boxes = all_t_boxes[t]\n",
    "        \n",
    "        used_next_boxes = []  # 记录已被匹配的 next_boxes\n",
    "        # 比较前、后两个时刻的框 \n",
    "        for i in range(len(all_trac_framelist[t-1])):   # 也就是前一时刻的某一个框\n",
    "            i_current_id = all_trac_framelist[t-1][i][\"track_id\"]  \n",
    "            i_curren_box= all_trac_framelist[t-1][i][\"track_boxes\"]\n",
    "\n",
    "            # 判断是否匹配的标准\n",
    "            best_match_box = None\n",
    "            best_iou = 0 \n",
    "            for i_next_box in next_boxes:\n",
    "                iou = calculate_overlap_area(i_curren_box[0:4], i_next_box[0:4])   # [:,0:4] ->提取x,y, w, h\n",
    "                if iou > best_iou:\n",
    "                    best_match_box = i_next_box  # 保存完整的x,y, w, h, area, 原始像素的label——id\n",
    "                    best_iou = iou\n",
    "            if best_iou >= iou_threshold:  \n",
    "                # 同一片云， 赋予下一个时刻同样的id        \n",
    "                next_boxes_frame = {\n",
    "                        \"total_time\": t , \n",
    "                        \"track_id\": i_current_id, \n",
    "                        \"track_boxes\": best_match_box.tolist()   # 下一个时刻中与前一个时刻最匹配的 框     \n",
    "                                  }\n",
    "                i_t_trac_framelist.append(next_boxes_frame)\n",
    "                used_next_boxes.append(best_match_box.tolist())  # 标记下一个图片中已使用, 也就是记录同一片云 \n",
    "\n",
    "                # print(\"时刻t: \", t)\n",
    "                # print(\"=========前后一对========\")\n",
    "                # print(i_curren_box)\n",
    "                # print(best_match_box.tolist())\n",
    "                # print(\"========================================\")\n",
    "                \n",
    "                \n",
    "                # if (i_current_id == 15):\n",
    "                #     print(\"时刻t: \", t)\n",
    "                #     print(\"=========新出现的框========\")\n",
    "                #     print(\"track_id = 15  的box\")\n",
    "                #     print(i_curren_box.tolist())\n",
    "                #     print(best_match_box.tolist())\n",
    "        \n",
    "        # 赋予后一个时刻中 没有id 的框的信息 ，也就是相较于上一张图片，后一张图片中新出现的框\n",
    "        for box in next_boxes:\n",
    "            # if box.tolist()  in used_next_boxes:\n",
    "            #     print(\"if box.tolist()  in used_next_boxes: \")\n",
    "            #     print(box.tolist())\n",
    "\n",
    "\n",
    "            if box.tolist() not in used_next_boxes:    # 如果不转化为 list， 那么 numpy数组和 列表的比较会报错     \n",
    "                # if (box.tolist()[-1] == 453):\n",
    "                #     print(\"时刻t: \", t)\n",
    "                #     print(\"=========新出现的框========\")\n",
    "                #     print(\"出现了  label_id = 453的box\")\n",
    "                #     print(box.tolist())\n",
    "                \n",
    "                # print(\"========================================\")\n",
    "                # print(used_next_boxes)\n",
    "                # print(\"====================================\")\n",
    "\n",
    "                # print(f\"前一个total_tracked_ids:{total_tracked_ids} \")\n",
    "                # # total_tracked_ids += 1      \n",
    "                # print(f\"更新一次后total_tracked_ids:{total_tracked_ids} \")\n",
    "                new_boxes_frame ={\n",
    "                     \"total_time\": t,        # 下个时刻没有了， 说明还是处于第0时刻\n",
    "                     \"track_id\": total_tracked_ids , \n",
    "                     \"track_boxes\": box.tolist()  \n",
    "                }\n",
    "                i_t_trac_framelist.append(new_boxes_frame)\n",
    "                # 更新 id \n",
    "                total_tracked_ids += 1  #  放在这里更新，   如果放在本次循环的开头就更新， 那么会导致 id 的重复\n",
    "        # 储存整个时刻的框的信息 \n",
    "        all_trac_framelist.append(i_t_trac_framelist)\n",
    "\n",
    "    return all_trac_framelist\n"
   ],
   "outputs": [],
   "execution_count": 23
  },
  {
   "metadata": {
    "ExecuteTime": {
     "end_time": "2025-07-01T22:22:28.327667Z",
     "start_time": "2025-07-01T22:22:28.303027Z"
    }
   },
   "cell_type": "code",
   "source": [
    "# 不同时刻的数据应该由 next 进行连接 \n",
    "all_t_boxes= [current_boxes,next_boxes , next_boxes3 ]\n",
    "# 数据跟踪和打印    \n",
    "result = track_boxes( all_t_boxes, iou_threshold=0.5 )   \n"
   ],
   "outputs": [
    {
     "name": "stdout",
     "output_type": "stream",
     "text": [
      " 初始化后的  total_tracked_ids：  36\n"
     ]
    }
   ],
   "execution_count": 24
  },
  {
   "metadata": {
    "ExecuteTime": {
     "end_time": "2025-07-01T22:22:28.341210Z",
     "start_time": "2025-07-01T22:22:28.330914Z"
    }
   },
   "cell_type": "code",
   "source": [
    "for  i_t_all_frame in result:\n",
    "    for i_box_info in i_t_all_frame:\n",
    "        print(i_box_info)"
   ],
   "outputs": [
    {
     "name": "stdout",
     "output_type": "stream",
     "text": [
      "{'total_time': 0, 'track_id': 0, 'track_boxes': [2544, 22, 93, 79, 2438, 4]}\n",
      "{'total_time': 0, 'track_id': 1, 'track_boxes': [2455, 46, 112, 76, 3539, 5]}\n",
      "{'total_time': 0, 'track_id': 2, 'track_boxes': [2443, 101, 141, 137, 7341, 31]}\n",
      "{'total_time': 0, 'track_id': 3, 'track_boxes': [2009, 173, 151, 99, 6174, 82]}\n",
      "{'total_time': 0, 'track_id': 4, 'track_boxes': [2296, 200, 115, 46, 2297, 99]}\n",
      "{'total_time': 0, 'track_id': 5, 'track_boxes': [1782, 232, 126, 103, 4800, 130]}\n",
      "{'total_time': 0, 'track_id': 6, 'track_boxes': [3094, 254, 65, 59, 970, 169]}\n",
      "{'total_time': 0, 'track_id': 7, 'track_boxes': [4852, 709, 59, 63, 1515, 334]}\n",
      "{'total_time': 0, 'track_id': 8, 'track_boxes': [4771, 757, 87, 72, 2568, 387]}\n",
      "{'total_time': 0, 'track_id': 9, 'track_boxes': [3892, 791, 80, 60, 1458, 429]}\n",
      "{'total_time': 0, 'track_id': 10, 'track_boxes': [4558, 824, 78, 62, 2458, 469]}\n",
      "{'total_time': 0, 'track_id': 11, 'track_boxes': [4832, 862, 44, 48, 846, 613]}\n",
      "{'total_time': 0, 'track_id': 12, 'track_boxes': [91, 872, 36, 35, 737, 636]}\n",
      "{'total_time': 0, 'track_id': 13, 'track_boxes': [1362, 882, 42, 41, 905, 670]}\n",
      "{'total_time': 0, 'track_id': 14, 'track_boxes': [4300, 892, 220, 209, 13963, 701]}\n",
      "{'total_time': 0, 'track_id': 15, 'track_boxes': [937, 899, 56, 74, 1613, 716]}\n",
      "{'total_time': 0, 'track_id': 16, 'track_boxes': [4048, 923, 67, 57, 1465, 848]}\n",
      "{'total_time': 0, 'track_id': 17, 'track_boxes': [1383, 933, 43, 46, 745, 910]}\n",
      "{'total_time': 0, 'track_id': 18, 'track_boxes': [269, 934, 92, 68, 2659, 924]}\n",
      "{'total_time': 0, 'track_id': 19, 'track_boxes': [2739, 942, 68, 76, 2532, 990]}\n",
      "{'total_time': 0, 'track_id': 20, 'track_boxes': [2798, 962, 35, 41, 803, 1123]}\n",
      "{'total_time': 0, 'track_id': 21, 'track_boxes': [1368, 969, 59, 58, 1662, 1143]}\n",
      "{'total_time': 0, 'track_id': 22, 'track_boxes': [4158, 981, 73, 35, 932, 1208]}\n",
      "{'total_time': 0, 'track_id': 23, 'track_boxes': [3888, 982, 49, 33, 844, 1220]}\n",
      "{'total_time': 0, 'track_id': 24, 'track_boxes': [2614, 997, 34, 40, 732, 1296]}\n",
      "{'total_time': 0, 'track_id': 25, 'track_boxes': [3710, 1007, 154, 89, 7687, 1351]}\n",
      "{'total_time': 0, 'track_id': 26, 'track_boxes': [2783, 1013, 51, 47, 1556, 1376]}\n",
      "{'total_time': 0, 'track_id': 27, 'track_boxes': [4581, 1065, 82, 85, 2379, 1650]}\n",
      "{'total_time': 0, 'track_id': 28, 'track_boxes': [1024, 1122, 91, 106, 4452, 1804]}\n",
      "{'total_time': 0, 'track_id': 29, 'track_boxes': [4920, 1128, 91, 50, 1504, 1817]}\n",
      "{'total_time': 0, 'track_id': 30, 'track_boxes': [3498, 1169, 53, 27, 734, 1880]}\n",
      "{'total_time': 0, 'track_id': 31, 'track_boxes': [4451, 1210, 46, 31, 808, 1950]}\n",
      "{'total_time': 0, 'track_id': 32, 'track_boxes': [4544, 1211, 30, 56, 890, 1953]}\n",
      "{'total_time': 0, 'track_id': 33, 'track_boxes': [4199, 1233, 41, 48, 914, 1988]}\n",
      "{'total_time': 0, 'track_id': 34, 'track_boxes': [957, 1249, 63, 78, 2400, 2001]}\n",
      "{'total_time': 0, 'track_id': 35, 'track_boxes': [1207, 1277, 55, 30, 798, 2050]}\n",
      "{'total_time': 1, 'track_id': 0, 'track_boxes': [2514, 10, 200, 222, 16951, 4]}\n",
      "{'total_time': 1, 'track_id': 5, 'track_boxes': [1799, 202, 187, 140, 5995, 147]}\n",
      "{'total_time': 1, 'track_id': 8, 'track_boxes': [4798, 755, 65, 51, 1345, 420]}\n",
      "{'total_time': 1, 'track_id': 9, 'track_boxes': [3927, 807, 69, 37, 1130, 521]}\n",
      "{'total_time': 1, 'track_id': 10, 'track_boxes': [4567, 815, 64, 79, 2768, 545]}\n",
      "{'total_time': 1, 'track_id': 11, 'track_boxes': [4827, 865, 55, 51, 1197, 677]}\n",
      "{'total_time': 1, 'track_id': 13, 'track_boxes': [1353, 877, 58, 65, 1629, 707]}\n",
      "{'total_time': 1, 'track_id': 14, 'track_boxes': [4304, 965, 197, 144, 12307, 1168]}\n",
      "{'total_time': 1, 'track_id': 19, 'track_boxes': [2722, 943, 103, 64, 3133, 1024]}\n",
      "{'total_time': 1, 'track_id': 20, 'track_boxes': [2722, 943, 103, 64, 3133, 1024]}\n",
      "{'total_time': 1, 'track_id': 25, 'track_boxes': [3748, 1067, 71, 36, 1262, 1763]}\n",
      "{'total_time': 1, 'track_id': 28, 'track_boxes': [1046, 1117, 67, 65, 2243, 1917]}\n",
      "{'total_time': 1, 'track_id': 30, 'track_boxes': [3501, 1144, 82, 52, 1668, 1962]}\n",
      "{'total_time': 1, 'track_id': 34, 'track_boxes': [940, 1269, 64, 57, 2083, 2221]}\n",
      "{'total_time': 1, 'track_id': 36, 'track_boxes': [2200, 166, 75, 45, 1316, 94]}\n",
      "{'total_time': 1, 'track_id': 37, 'track_boxes': [2393, 221, 91, 53, 1894, 184]}\n",
      "{'total_time': 1, 'track_id': 38, 'track_boxes': [2097, 222, 128, 67, 2466, 187]}\n",
      "{'total_time': 1, 'track_id': 39, 'track_boxes': [4712, 926, 53, 35, 909, 925]}\n",
      "{'total_time': 1, 'track_id': 40, 'track_boxes': [905, 932, 63, 45, 1361, 966]}\n",
      "{'total_time': 1, 'track_id': 41, 'track_boxes': [4024, 951, 65, 46, 1134, 1087]}\n",
      "{'total_time': 1, 'track_id': 42, 'track_boxes': [217, 954, 113, 54, 1475, 1110]}\n",
      "{'total_time': 1, 'track_id': 43, 'track_boxes': [4196, 982, 58, 43, 976, 1265]}\n",
      "{'total_time': 1, 'track_id': 44, 'track_boxes': [3727, 996, 150, 80, 6719, 1361]}\n",
      "{'total_time': 1, 'track_id': 45, 'track_boxes': [4527, 996, 46, 53, 909, 1369]}\n",
      "{'total_time': 1, 'track_id': 46, 'track_boxes': [1352, 1005, 66, 34, 994, 1415]}\n",
      "{'total_time': 1, 'track_id': 47, 'track_boxes': [2750, 1011, 57, 48, 1882, 1455]}\n",
      "{'total_time': 1, 'track_id': 48, 'track_boxes': [4553, 1052, 129, 55, 2893, 1695]}\n",
      "{'total_time': 1, 'track_id': 49, 'track_boxes': [1016, 1185, 49, 44, 1418, 2066]}\n",
      "{'total_time': 2, 'track_id': 0, 'track_boxes': [2561, 11, 172, 217, 14267, 6]}\n",
      "{'total_time': 2, 'track_id': 5, 'track_boxes': [1851, 244, 98, 91, 3689, 223]}\n",
      "{'total_time': 2, 'track_id': 8, 'track_boxes': [4811, 747, 40, 49, 918, 416]}\n",
      "{'total_time': 2, 'track_id': 9, 'track_boxes': [3958, 801, 48, 30, 751, 509]}\n",
      "{'total_time': 2, 'track_id': 10, 'track_boxes': [4556, 841, 75, 91, 2443, 571]}\n",
      "{'total_time': 2, 'track_id': 13, 'track_boxes': [1354, 878, 65, 62, 818, 643]}\n",
      "{'total_time': 2, 'track_id': 14, 'track_boxes': [4325, 985, 157, 124, 10761, 1198]}\n",
      "{'total_time': 2, 'track_id': 25, 'track_boxes': [3705, 990, 186, 95, 7119, 1245]}\n",
      "{'total_time': 2, 'track_id': 30, 'track_boxes': [3485, 1139, 77, 46, 1845, 1840]}\n",
      "{'total_time': 2, 'track_id': 36, 'track_boxes': [2207, 149, 251, 51, 3306, 49]}\n",
      "{'total_time': 2, 'track_id': 44, 'track_boxes': [3705, 990, 186, 95, 7119, 1245]}\n",
      "{'total_time': 2, 'track_id': 45, 'track_boxes': [4525, 1008, 49, 44, 793, 1385]}\n",
      "{'total_time': 2, 'track_id': 48, 'track_boxes': [4608, 1039, 80, 57, 2176, 1535]}\n",
      "{'total_time': 2, 'track_id': 49, 'track_boxes': [995, 1194, 63, 51, 2215, 1995]}\n",
      "{'total_time': 2, 'track_id': 50, 'track_boxes': [3333, 83, 99, 52, 1120, 21]}\n",
      "{'total_time': 2, 'track_id': 51, 'track_boxes': [1939, 182, 92, 61, 2059, 93]}\n",
      "{'total_time': 2, 'track_id': 52, 'track_boxes': [2513, 210, 63, 55, 1147, 151]}\n",
      "{'total_time': 2, 'track_id': 53, 'track_boxes': [2227, 220, 65, 38, 1106, 176]}\n",
      "{'total_time': 2, 'track_id': 54, 'track_boxes': [276, 829, 35, 40, 807, 545]}\n",
      "{'total_time': 2, 'track_id': 55, 'track_boxes': [1073, 933, 55, 31, 933, 874]}\n",
      "{'total_time': 2, 'track_id': 56, 'track_boxes': [2715, 947, 60, 112, 3225, 968]}\n",
      "{'total_time': 2, 'track_id': 57, 'track_boxes': [167, 971, 52, 23, 675, 1091]}\n",
      "{'total_time': 2, 'track_id': 58, 'track_boxes': [1342, 971, 36, 28, 681, 1097]}\n",
      "{'total_time': 2, 'track_id': 59, 'track_boxes': [3945, 1003, 141, 81, 3683, 1336]}\n",
      "{'total_time': 2, 'track_id': 60, 'track_boxes': [4086, 1004, 61, 41, 740, 1356]}\n",
      "{'total_time': 2, 'track_id': 61, 'track_boxes': [1867, 1036, 46, 34, 726, 1520]}\n",
      "{'total_time': 2, 'track_id': 62, 'track_boxes': [2778, 1053, 34, 31, 711, 1583]}\n",
      "{'total_time': 2, 'track_id': 63, 'track_boxes': [3964, 1147, 67, 39, 1039, 1861]}\n",
      "{'total_time': 2, 'track_id': 64, 'track_boxes': [3847, 1256, 84, 82, 1909, 2163]}\n",
      "{'total_time': 2, 'track_id': 65, 'track_boxes': [3774, 1265, 106, 73, 2696, 2174]}\n",
      "{'total_time': 2, 'track_id': 66, 'track_boxes': [914, 1620, 54, 32, 1201, 2364]}\n"
     ]
    }
   ],
   "execution_count": 25
  },
  {
   "metadata": {
    "ExecuteTime": {
     "end_time": "2025-07-01T22:22:28.364294Z",
     "start_time": "2025-07-01T22:22:28.344499Z"
    }
   },
   "cell_type": "code",
   "source": [
    "def print_organized_tracks(all_trac_framelist, method='id'):\n",
    "    \"\"\"\n",
    "    根据参数 method 展示 MCS 轨迹信息。\n",
    "    参数:\n",
    "        all_trac_framelist: track_boxes 返回的结果\n",
    "        method: \n",
    "            - 'id': 按照轨迹 ID 展示（默认）\n",
    "            - 't': 按照时间帧展示\n",
    "    \"\"\"\n",
    "    if method == 'id':\n",
    "        # 按照 MCS ID 组织数据\n",
    "        tracks_by_id = {}  # {track_id: [(time, box)]}            \n",
    "        for time_step in all_trac_framelist:\n",
    "            t = time_step[0][\"total_time\"] if time_step else None\n",
    "            for item in time_step:\n",
    "                track_id = item[\"track_id\"]\n",
    "                time = item[\"total_time\"]\n",
    "                box = item[\"track_boxes\"]\n",
    "\n",
    "                if track_id not in tracks_by_id:\n",
    "                    tracks_by_id[track_id] = []\n",
    "                # tracks_by_id[track_id].append(box)\n",
    "                tracks_by_id[track_id].append((time, box))\n",
    "        \n",
    "        # 打印按 ID 分组的轨迹\n",
    "        for track_id in sorted(tracks_by_id.keys()):\n",
    "            # print(tracks_by_id[track_id])  # 按照不同的id， 那出数据\n",
    "            print(f\"MCS ID: {track_id}\")\n",
    "            for time, box in tracks_by_id[track_id]:\n",
    "                print(f\"    Time {time} → {box}\")\n",
    "            print()\n",
    "\n",
    "    elif method == 't':\n",
    "        # 按照时间帧组织数据\n",
    "        tracks_by_t = {}  # {time: [(track_id, box)]}\n",
    "\n",
    "        for time_step in all_trac_framelist:\n",
    "            t = time_step[0][\"total_time\"] if time_step else None\n",
    "            if t is not None:\n",
    "                if t not in tracks_by_t:\n",
    "                    tracks_by_t[t] = []\n",
    "                for item in time_step:\n",
    "                    track_id = item[\"track_id\"]\n",
    "                    box = item[\"track_boxes\"]\n",
    "                    # tracks_by_t[t].append((track_id, box))  \n",
    "                    tracks_by_t[t].append(box)  # 拿出 box 的坐标       \n",
    "\n",
    "        # 打印按 时间帧 分组的轨迹\n",
    "        for t in sorted(tracks_by_t.keys()):\n",
    "            print(\"===\"*10)\n",
    "            # print(tracks_by_t[t])    \n",
    "            print(f\"时刻 t: {t}\")\n",
    "            for track_id, box in tracks_by_t[t]:\n",
    "                print(f\"    ID {track_id} → {box}\")\n",
    "            print()\n",
    "    else:\n",
    "        raise ValueError(\"method 必须是 'id' 或 't'\")\n"
   ],
   "outputs": [],
   "execution_count": 26
  },
  {
   "metadata": {},
   "cell_type": "markdown",
   "source": "## 对时间进行筛选"
  },
  {
   "metadata": {
    "ExecuteTime": {
     "end_time": "2025-07-01T22:22:28.384064Z",
     "start_time": "2025-07-01T22:22:28.367307Z"
    }
   },
   "cell_type": "code",
   "source": [
    "\"\"\"  至少存在2 个时刻 \"\"\"          \n",
    "def choice_t(all_trac_framelist):\n",
    "    \"\"\" \n",
    "    all_trac_framelist: 该参数是根据 函数track_boxes 拿到的列表\n",
    "    time_criteria: [[(t,box的x,y,w,h)], ...]\n",
    "    by_time_list : list \n",
    "    \"\"\"\n",
    "    # 按照 ID 组织数据 , 也就是不同的框出现的个数\n",
    "    tracks_by_id = {}  # {track_id: [(time, box)]} \n",
    "    time_criteria_list = []\n",
    "    for time_step in all_trac_framelist:  # time_step 代表一个时刻的框\n",
    "        for i_box in time_step:\n",
    "            track_id = i_box[\"track_id\"]\n",
    "            t = i_box[\"total_time\"]       # t表示时刻 \n",
    "            box = i_box[\"track_boxes\"]\n",
    "            if track_id not in tracks_by_id:\n",
    "                tracks_by_id[track_id] = []\n",
    "            tracks_by_id[track_id].append((t,track_id, box))   # 将同一个id的框， 存储起来\n",
    "\n",
    "    # 判断个数， 也就是 每个框存在了多少个时刻\n",
    "    for track_id in sorted(tracks_by_id.keys()):\n",
    "        if len(tracks_by_id[track_id]) >= 2:\n",
    "            time_criteria_list.append(tracks_by_id[track_id])\n",
    "            # print(\"tracks_by_id[track_id]======================================\")\n",
    "            # print(tracks_by_id[track_id])\n",
    "\n",
    "    # 按时间整合数据， t, track_id,  像素的label_id \n",
    "    by_time = {}  # {t: [ (id, box), ... ]}\n",
    "    for i_id_box in time_criteria_list:\n",
    "        for t, track_id, box in i_id_box:\n",
    "            if t not in by_time:\n",
    "                by_time[t] = []\n",
    "            by_time[t].append(box[-1])   # 获得追踪id 、 像素的label_id\n",
    "            # print(\"=========================box[-1]===================\")\n",
    "            # print(track_id, box[-1])\n",
    "    by_time_label_id_list = [\n",
    "        by_time[t] for t in sorted(by_time.keys())\n",
    "    ]\n",
    "    \n",
    "    # # 按照 track_id 拿出框\n",
    "    # by_id = {}\n",
    "    # for i_id_box in time_criteria_list:  #  \n",
    "    #     for t, track_id, box in i_id_box:\n",
    "    #         if track_id not in by_id:\n",
    "    #             by_id[track_id] = []\n",
    "    #         by_id[track_id].append(box[-1])   # 获得追踪id 、 像素的label_id\n",
    "    # \n",
    "    #     by_id_label_id_list = [\n",
    "    #                     by_id[i_track_id] for i_track_id in sorted(by_id.keys())]\n",
    "    #     \n",
    "    #     \n",
    "        \n",
    "    return by_time_label_id_list  #  by_time   拿出  label id \n"
   ],
   "outputs": [],
   "execution_count": 27
  },
  {
   "metadata": {
    "ExecuteTime": {
     "end_time": "2025-07-01T22:22:28.398101Z",
     "start_time": "2025-07-01T22:22:28.387118Z"
    }
   },
   "cell_type": "code",
   "source": [
    "\"\"\" 将框信息 转化为可以对应的框的经纬度 \"\"\"   \n",
    "def get_lonlat_trans_coords(stats_coords_info,lon, lat,):\n",
    "    \"\"\" 根据输入的stats 坐标点 \"\"\"\n",
    "    \"\"\"\n",
    "    stats_coords_info:  list,例如[[x,y,w,h],], 该列表中的每个元素都是 [x,y,w,h]   \n",
    "    lon:  从dataset中裁剪的lon, 例如： init_data.lon\n",
    "    lat: 从dataset中裁剪的lat,例如： init_data.lat \n",
    "    \"\"\"\n",
    "    points_list = []\n",
    "    for i_point_info in stats_coords_info:\n",
    "        x_min, y_top, width, height = i_point_info\n",
    "        points = [\n",
    "        (lon[x_min].item(), lat[y_top ].item()  ),   # 左上\n",
    "        (lon[x_min + width].item() , lat[y_top ].item() ),   # 右上\n",
    "        (lon[x_min + width].item() , lat[y_top + height].item()),   # 右下\n",
    "        (lon[x_min].item(), lat[y_top + height].item())    # 左下\n",
    "         ]\n",
    "        points_list.append(points)"
   ],
   "outputs": [],
   "execution_count": 28
  },
  {
   "metadata": {
    "ExecuteTime": {
     "end_time": "2025-07-01T22:22:28.412156Z",
     "start_time": "2025-07-01T22:22:28.401590Z"
    }
   },
   "cell_type": "code",
   "source": "print_organized_tracks(result)",
   "outputs": [
    {
     "name": "stdout",
     "output_type": "stream",
     "text": [
      "MCS ID: 0\n",
      "    Time 0 → [2544, 22, 93, 79, 2438, 4]\n",
      "    Time 1 → [2514, 10, 200, 222, 16951, 4]\n",
      "    Time 2 → [2561, 11, 172, 217, 14267, 6]\n",
      "\n",
      "MCS ID: 1\n",
      "    Time 0 → [2455, 46, 112, 76, 3539, 5]\n",
      "\n",
      "MCS ID: 2\n",
      "    Time 0 → [2443, 101, 141, 137, 7341, 31]\n",
      "\n",
      "MCS ID: 3\n",
      "    Time 0 → [2009, 173, 151, 99, 6174, 82]\n",
      "\n",
      "MCS ID: 4\n",
      "    Time 0 → [2296, 200, 115, 46, 2297, 99]\n",
      "\n",
      "MCS ID: 5\n",
      "    Time 0 → [1782, 232, 126, 103, 4800, 130]\n",
      "    Time 1 → [1799, 202, 187, 140, 5995, 147]\n",
      "    Time 2 → [1851, 244, 98, 91, 3689, 223]\n",
      "\n",
      "MCS ID: 6\n",
      "    Time 0 → [3094, 254, 65, 59, 970, 169]\n",
      "\n",
      "MCS ID: 7\n",
      "    Time 0 → [4852, 709, 59, 63, 1515, 334]\n",
      "\n",
      "MCS ID: 8\n",
      "    Time 0 → [4771, 757, 87, 72, 2568, 387]\n",
      "    Time 1 → [4798, 755, 65, 51, 1345, 420]\n",
      "    Time 2 → [4811, 747, 40, 49, 918, 416]\n",
      "\n",
      "MCS ID: 9\n",
      "    Time 0 → [3892, 791, 80, 60, 1458, 429]\n",
      "    Time 1 → [3927, 807, 69, 37, 1130, 521]\n",
      "    Time 2 → [3958, 801, 48, 30, 751, 509]\n",
      "\n",
      "MCS ID: 10\n",
      "    Time 0 → [4558, 824, 78, 62, 2458, 469]\n",
      "    Time 1 → [4567, 815, 64, 79, 2768, 545]\n",
      "    Time 2 → [4556, 841, 75, 91, 2443, 571]\n",
      "\n",
      "MCS ID: 11\n",
      "    Time 0 → [4832, 862, 44, 48, 846, 613]\n",
      "    Time 1 → [4827, 865, 55, 51, 1197, 677]\n",
      "\n",
      "MCS ID: 12\n",
      "    Time 0 → [91, 872, 36, 35, 737, 636]\n",
      "\n",
      "MCS ID: 13\n",
      "    Time 0 → [1362, 882, 42, 41, 905, 670]\n",
      "    Time 1 → [1353, 877, 58, 65, 1629, 707]\n",
      "    Time 2 → [1354, 878, 65, 62, 818, 643]\n",
      "\n",
      "MCS ID: 14\n",
      "    Time 0 → [4300, 892, 220, 209, 13963, 701]\n",
      "    Time 1 → [4304, 965, 197, 144, 12307, 1168]\n",
      "    Time 2 → [4325, 985, 157, 124, 10761, 1198]\n",
      "\n",
      "MCS ID: 15\n",
      "    Time 0 → [937, 899, 56, 74, 1613, 716]\n",
      "\n",
      "MCS ID: 16\n",
      "    Time 0 → [4048, 923, 67, 57, 1465, 848]\n",
      "\n",
      "MCS ID: 17\n",
      "    Time 0 → [1383, 933, 43, 46, 745, 910]\n",
      "\n",
      "MCS ID: 18\n",
      "    Time 0 → [269, 934, 92, 68, 2659, 924]\n",
      "\n",
      "MCS ID: 19\n",
      "    Time 0 → [2739, 942, 68, 76, 2532, 990]\n",
      "    Time 1 → [2722, 943, 103, 64, 3133, 1024]\n",
      "\n",
      "MCS ID: 20\n",
      "    Time 0 → [2798, 962, 35, 41, 803, 1123]\n",
      "    Time 1 → [2722, 943, 103, 64, 3133, 1024]\n",
      "\n",
      "MCS ID: 21\n",
      "    Time 0 → [1368, 969, 59, 58, 1662, 1143]\n",
      "\n",
      "MCS ID: 22\n",
      "    Time 0 → [4158, 981, 73, 35, 932, 1208]\n",
      "\n",
      "MCS ID: 23\n",
      "    Time 0 → [3888, 982, 49, 33, 844, 1220]\n",
      "\n",
      "MCS ID: 24\n",
      "    Time 0 → [2614, 997, 34, 40, 732, 1296]\n",
      "\n",
      "MCS ID: 25\n",
      "    Time 0 → [3710, 1007, 154, 89, 7687, 1351]\n",
      "    Time 1 → [3748, 1067, 71, 36, 1262, 1763]\n",
      "    Time 2 → [3705, 990, 186, 95, 7119, 1245]\n",
      "\n",
      "MCS ID: 26\n",
      "    Time 0 → [2783, 1013, 51, 47, 1556, 1376]\n",
      "\n",
      "MCS ID: 27\n",
      "    Time 0 → [4581, 1065, 82, 85, 2379, 1650]\n",
      "\n",
      "MCS ID: 28\n",
      "    Time 0 → [1024, 1122, 91, 106, 4452, 1804]\n",
      "    Time 1 → [1046, 1117, 67, 65, 2243, 1917]\n",
      "\n",
      "MCS ID: 29\n",
      "    Time 0 → [4920, 1128, 91, 50, 1504, 1817]\n",
      "\n",
      "MCS ID: 30\n",
      "    Time 0 → [3498, 1169, 53, 27, 734, 1880]\n",
      "    Time 1 → [3501, 1144, 82, 52, 1668, 1962]\n",
      "    Time 2 → [3485, 1139, 77, 46, 1845, 1840]\n",
      "\n",
      "MCS ID: 31\n",
      "    Time 0 → [4451, 1210, 46, 31, 808, 1950]\n",
      "\n",
      "MCS ID: 32\n",
      "    Time 0 → [4544, 1211, 30, 56, 890, 1953]\n",
      "\n",
      "MCS ID: 33\n",
      "    Time 0 → [4199, 1233, 41, 48, 914, 1988]\n",
      "\n",
      "MCS ID: 34\n",
      "    Time 0 → [957, 1249, 63, 78, 2400, 2001]\n",
      "    Time 1 → [940, 1269, 64, 57, 2083, 2221]\n",
      "\n",
      "MCS ID: 35\n",
      "    Time 0 → [1207, 1277, 55, 30, 798, 2050]\n",
      "\n",
      "MCS ID: 36\n",
      "    Time 1 → [2200, 166, 75, 45, 1316, 94]\n",
      "    Time 2 → [2207, 149, 251, 51, 3306, 49]\n",
      "\n",
      "MCS ID: 37\n",
      "    Time 1 → [2393, 221, 91, 53, 1894, 184]\n",
      "\n",
      "MCS ID: 38\n",
      "    Time 1 → [2097, 222, 128, 67, 2466, 187]\n",
      "\n",
      "MCS ID: 39\n",
      "    Time 1 → [4712, 926, 53, 35, 909, 925]\n",
      "\n",
      "MCS ID: 40\n",
      "    Time 1 → [905, 932, 63, 45, 1361, 966]\n",
      "\n",
      "MCS ID: 41\n",
      "    Time 1 → [4024, 951, 65, 46, 1134, 1087]\n",
      "\n",
      "MCS ID: 42\n",
      "    Time 1 → [217, 954, 113, 54, 1475, 1110]\n",
      "\n",
      "MCS ID: 43\n",
      "    Time 1 → [4196, 982, 58, 43, 976, 1265]\n",
      "\n",
      "MCS ID: 44\n",
      "    Time 1 → [3727, 996, 150, 80, 6719, 1361]\n",
      "    Time 2 → [3705, 990, 186, 95, 7119, 1245]\n",
      "\n",
      "MCS ID: 45\n",
      "    Time 1 → [4527, 996, 46, 53, 909, 1369]\n",
      "    Time 2 → [4525, 1008, 49, 44, 793, 1385]\n",
      "\n",
      "MCS ID: 46\n",
      "    Time 1 → [1352, 1005, 66, 34, 994, 1415]\n",
      "\n",
      "MCS ID: 47\n",
      "    Time 1 → [2750, 1011, 57, 48, 1882, 1455]\n",
      "\n",
      "MCS ID: 48\n",
      "    Time 1 → [4553, 1052, 129, 55, 2893, 1695]\n",
      "    Time 2 → [4608, 1039, 80, 57, 2176, 1535]\n",
      "\n",
      "MCS ID: 49\n",
      "    Time 1 → [1016, 1185, 49, 44, 1418, 2066]\n",
      "    Time 2 → [995, 1194, 63, 51, 2215, 1995]\n",
      "\n",
      "MCS ID: 50\n",
      "    Time 2 → [3333, 83, 99, 52, 1120, 21]\n",
      "\n",
      "MCS ID: 51\n",
      "    Time 2 → [1939, 182, 92, 61, 2059, 93]\n",
      "\n",
      "MCS ID: 52\n",
      "    Time 2 → [2513, 210, 63, 55, 1147, 151]\n",
      "\n",
      "MCS ID: 53\n",
      "    Time 2 → [2227, 220, 65, 38, 1106, 176]\n",
      "\n",
      "MCS ID: 54\n",
      "    Time 2 → [276, 829, 35, 40, 807, 545]\n",
      "\n",
      "MCS ID: 55\n",
      "    Time 2 → [1073, 933, 55, 31, 933, 874]\n",
      "\n",
      "MCS ID: 56\n",
      "    Time 2 → [2715, 947, 60, 112, 3225, 968]\n",
      "\n",
      "MCS ID: 57\n",
      "    Time 2 → [167, 971, 52, 23, 675, 1091]\n",
      "\n",
      "MCS ID: 58\n",
      "    Time 2 → [1342, 971, 36, 28, 681, 1097]\n",
      "\n",
      "MCS ID: 59\n",
      "    Time 2 → [3945, 1003, 141, 81, 3683, 1336]\n",
      "\n",
      "MCS ID: 60\n",
      "    Time 2 → [4086, 1004, 61, 41, 740, 1356]\n",
      "\n",
      "MCS ID: 61\n",
      "    Time 2 → [1867, 1036, 46, 34, 726, 1520]\n",
      "\n",
      "MCS ID: 62\n",
      "    Time 2 → [2778, 1053, 34, 31, 711, 1583]\n",
      "\n",
      "MCS ID: 63\n",
      "    Time 2 → [3964, 1147, 67, 39, 1039, 1861]\n",
      "\n",
      "MCS ID: 64\n",
      "    Time 2 → [3847, 1256, 84, 82, 1909, 2163]\n",
      "\n",
      "MCS ID: 65\n",
      "    Time 2 → [3774, 1265, 106, 73, 2696, 2174]\n",
      "\n",
      "MCS ID: 66\n",
      "    Time 2 → [914, 1620, 54, 32, 1201, 2364]\n",
      "\n"
     ]
    }
   ],
   "execution_count": 29
  },
  {
   "metadata": {
    "ExecuteTime": {
     "end_time": "2025-07-01T22:22:28.748729Z",
     "start_time": "2025-07-01T22:22:28.416111Z"
    }
   },
   "cell_type": "code",
   "source": [
    "cleaned_label_id_list = choice_t(result)\n",
    "# 获取所有时刻的 像素label id\n",
    "all_t_greater2_label_list = cleaned_label_id_list\n",
    "points_list_t_greater2 = []\n",
    "tb_data_list_t_greater2 = []\n",
    "centroid_tgreater2 =  []\n",
    "\n",
    "for t in range(len(cleaned_label_id_list)):  # 拿出所有时刻的信息\n",
    "    final_mask = np.isin(variable_t_labels_list[t], all_t_greater2_label_list[t])\n",
    "    cleaned_tb = np.full_like(all_t_tbdata[t], np.nan)\n",
    "    cleaned_tb[final_mask] = all_t_tbdata[t][final_mask]\n",
    "    # 存取获得的亮温 \n",
    "    tb_data_list_t_greater2.append(cleaned_tb)\n",
    "    \n",
    "    # i_t_centroid_tgreater2 = []\n",
    "    # 对每个时刻的信息进行处理\n",
    "    i_t_points_list = []\n",
    "    for i_id in all_t_greater2_label_list[t]:\n",
    "        x_min, y_top, width, height, area = variable_t_stats_list[t][i_id]\n",
    "        # 获取对应的质心\n",
    "        # i_t_centroid_tgreater2.append( centroids_list[t][i_id])\n",
    "        points = [\n",
    "            (lon[x_min].item(), lat[y_top ].item()  ),   # 左上\n",
    "            (lon[x_min + width].item() , lat[y_top ].item() ),   # 右上\n",
    "            (lon[x_min + width].item() , lat[y_top + height].item()),   # 右下\n",
    "            (lon[x_min].item(), lat[y_top + height].item())    # 左下\n",
    "        ]\n",
    "        i_t_points_list.append((points, i_id))\n",
    "    \n",
    "    points_list_t_greater2.append((i_t_points_list))\n",
    "    # centroid_tgreater2.append(i_t_centroid_tgreater2)\n"
   ],
   "outputs": [],
   "execution_count": 30
  },
  {
   "metadata": {
    "ExecuteTime": {
     "end_time": "2025-07-01T22:35:37.386309Z",
     "start_time": "2025-07-01T22:35:32.792414Z"
    }
   },
   "cell_type": "code",
   "source": [
    "from matplotlib.patches import Polygon, FancyArrowPatch\n",
    "from shapely.geometry import Polygon as ShapelyPolygon\n",
    "# 创建图形和投影设置\n",
    "fig, ax = plt.subplots(figsize=(10, 15), subplot_kw={'projection': ccrs.PlateCarree()})\n",
    "grid = ax.gridlines(draw_labels=True)\n",
    "grid.top_labels = False\n",
    "grid.right_labels = False\n",
    "ax.add_feature(cfeature.BORDERS, edgecolor='lightgray', alpha=0.5)\n",
    "ax.add_feature(cfeature.COASTLINE, edgecolor='lightgray', alpha=0.5)\n",
    "# ax.set_extent([60, 180, -20, 40], crs=ccrs.PlateCarree())\n",
    "# ax.set_extent([-60, 60, -20, 40], crs=ccrs.PlateCarree())\n",
    "# ax.set_extent([-120, -60, -20, 40], crs=ccrs.PlateCarree())\n",
    "# ax.set_extent([-60,60, -60, -20], crs=ccrs.PlateCarree())\n",
    "\n",
    "cmap_list = [\"binary\", 'Blues', 'Reds']\n",
    "color_list = ['gray', 'darkblue', 'darkred']\n",
    "\n",
    "# 第一个时刻的方框\n",
    "for i_t in range(len(points_list_t_greater2)):\n",
    "\n",
    "    # 画底图\n",
    "    ax.contourf(lon,lat , tb_data_list_t_greater2[i_t], cmap=cmap_list[i_t], alpha =  0.2,\n",
    "                transform=ccrs.PlateCarree())\n",
    "\n",
    "    # 画框\n",
    "    points_list = points_list_t_greater2[i_t]\n",
    "    for points, i_label_id in points_list:\n",
    "        # print(points, i_label_id)\n",
    "        polygon = Polygon(points, closed=True, edgecolor=color_list[i_t],\n",
    "                          facecolor='none', linewidth=1, transform=ccrs.PlateCarree())\n",
    "        ax.add_patch(polygon)\n",
    "\n",
    "         # 计算多边形中心点\n",
    "        poly_center = ShapelyPolygon(points).centroid.coords[0]\n",
    "\n",
    "        # # 在框内添加文本，比如索引号或者特定字符\n",
    "        # ax.text(poly_center[0], poly_center[1], f\"{i_label_id}\", \n",
    "        #         fontsize=15, ha='center', va='center',\n",
    "        #         color=color_list[i_t], transform=ccrs.PlateCarree())\n",
    "\n",
    "# 添加图例\n",
    "legend_elements = [\n",
    "    Line2D([0], [0], color='gray', lw=2, linestyle='-', label='t=0'),\n",
    "    Line2D([0], [0], color='darkblue', lw=2, linestyle='-', label='t=1'),\n",
    "    Line2D([0], [0], color='darkred', lw=2, linestyle='-', label='t=2'),\n",
    "]\n",
    "\n",
    "ax.legend(handles=legend_elements, loc='upper right', fontsize=12)   \n",
    "plt.savefig('./img/my_mcs_追踪图.png', bbox_inches='tight', dpi=300, pad_inches=0.1,  )\n",
    "\n",
    "plt.show()"
   ],
   "outputs": [
    {
     "data": {
      "text/plain": [
       "<Figure size 1000x1500 with 1 Axes>"
      ],
      "image/png": "[encoded data removed]"
     },
     "metadata": {},
     "output_type": "display_data"
    }
   ],
   "execution_count": 44
  },
  {
   "metadata": {
    "ExecuteTime": {
     "end_time": "2025-07-01T22:22:33.755067Z",
     "start_time": "2025-07-01T22:22:33.750099Z"
    }
   },
   "cell_type": "code",
   "source": [
    "# # 画出 第三个文件的  label_id = 467 的框       \n",
    "# criteria1_tbdata_llllll, points_list3, next_boxes3 = get_dataBy_id(labels3, criteria_1_mcs_label_id3 , stats3,tb3)\n",
    "# img_test  = draw_boximg(lon, lat, criteria1_tbdata, points_list,centroids , criteria_1_mcs_label_id )"
   ],
   "outputs": [],
   "execution_count": 32
  },
  {
   "metadata": {
    "ExecuteTime": {
     "end_time": "2025-07-01T22:22:50.395142Z",
     "start_time": "2025-07-01T22:22:33.757080Z"
    }
   },
   "cell_type": "code",
   "source": [
    "import matplotlib.pyplot as plt\n",
    "from matplotlib.patches import Polygon\n",
    "import cartopy.crs as ccrs\n",
    "import cartopy.feature as cfeature\n",
    "from matplotlib.lines import Line2D\n",
    "\n",
    "# 防止中文乱码\n",
    "plt.rcParams['font.sans-serif'] = ['SimHei']\n",
    "plt.rcParams['axes.unicode_minus'] = False\n",
    "\n",
    "# 计算全局的最小值和最大值\n",
    "all_data = all_t_tbdata + tb_data_list_t_greater2\n",
    "global_min = min([data.min() for data in all_data])\n",
    "global_max = max([data.max() for data in all_data])\n",
    "\n",
    "fig, ax = plt.subplots(2, 3, figsize=(9, 4), \n",
    "                       subplot_kw={'projection': ccrs.PlateCarree()},\n",
    "                       )\n",
    "# plt.subplots_adjust(\n",
    "#     left=0.1,\n",
    "#     right=0.76,  # 为colorbar留出空间\n",
    "#     bottom=0.1,\n",
    "#     top=0.9,\n",
    "#     wspace=0.25,\n",
    "#     hspace= 0.01)\n",
    "\n",
    "# 添加网格和底图元素\n",
    "for i_row in range(ax.shape[0]):\n",
    "    for i_col in range(ax.shape[1]):\n",
    "        # 添加经纬度网格线并显示标签\n",
    "        i_ax = ax[i_row, i_col]\n",
    "        grid = i_ax.gridlines(draw_labels=True, linewidth=0)\n",
    "        grid.top_labels = False\n",
    "        grid.right_labels = False \n",
    "        if i_col == 0 :\n",
    "            grid.left_labels = True\n",
    "        else:\n",
    "            grid.left_labels = False\n",
    "\n",
    "        i_ax.add_feature(cfeature.BORDERS, edgecolor='lightgray', alpha=0.5)\n",
    "        i_ax.add_feature(cfeature.COASTLINE, edgecolor='lightgray', alpha=0.5)\n",
    "        # i_ax.set_extent([90, 180, -10, 30], crs=ccrs.PlateCarree())\n",
    "\n",
    "cmap_list = [\"binary\", 'Blues', 'Reds']\n",
    "color_list = ['gray', 'darkblue', 'darkred']\n",
    "\n",
    "# 存储第一个 contourf 的实例以供创建共享 colorbar 使用\n",
    "contourf_instance = None\n",
    "extend = 'neither'  # 使用默认值\n",
    "for i_t in range(len(points_list_t_greater2)):\n",
    "    for i in range(2):   # 两组图，一组为原图，一组为识别出来的图\n",
    "        if i == 0:   # 原图\n",
    "            contourf_plot = ax[i, i_t].contourf(lon, lat, all_t_tbdata[i_t],\n",
    "                                                cmap='coolwarm',\n",
    "                                                vmin=global_min,\n",
    "                                                vmax=global_max,\n",
    "                                                extend = extend,\n",
    "                                                transform=ccrs.PlateCarree())\n",
    "            ax[i, i_t].set_title(f't={i_t}')\n",
    "            # 画上框 \n",
    "            points_list = points_list_t_greater2[i_t]\n",
    "            for points, i_label_id in points_list:\n",
    "                polygon = Polygon(points, closed=True,\n",
    "                                  edgecolor='black',\n",
    "                                  facecolor='none', linewidth=1, transform=ccrs.PlateCarree())\n",
    "                ax[i, i_t].add_patch(polygon)\n",
    "                 # 计算多边形中心点\n",
    "                poly_center = ShapelyPolygon(points).centroid.coords[0]\n",
    "        \n",
    "                # 在框内添加文本，比如索引号或者特定字符\n",
    "                ax[i, i_t].text(poly_center[0], poly_center[1], f\"{i_label_id}\", \n",
    "                        fontsize=15, ha='center', va='center',\n",
    "                        color=color_list[i_t], transform=ccrs.PlateCarree())\n",
    "\n",
    "\n",
    "            # 保存第一个 contourf 实例\n",
    "            if contourf_instance is None:\n",
    "                contourf_instance = contourf_plot\n",
    "\n",
    "        else:   # 有框的图\n",
    "            ax[i, i_t].contourf(lon, lat, tb_data_list_t_greater2[i_t],\n",
    "                                cmap='coolwarm',\n",
    "                                vmin=global_min,\n",
    "                                vmax=global_max,\n",
    "                                extend = extend,\n",
    "                                transform=ccrs.PlateCarree())\n",
    "\n",
    "            points_list = points_list_t_greater2[i_t]\n",
    "            for points, i_label_id in points_list:\n",
    "                polygon = Polygon(points, closed=True,\n",
    "                                  edgecolor='black',\n",
    "                                  facecolor='none', linewidth=1, transform=ccrs.PlateCarree())\n",
    "                ax[i, i_t].add_patch(polygon)\n",
    "                                 # 计算多边形中心点\n",
    "                poly_center = ShapelyPolygon(points).centroid.coords[0]\n",
    "        \n",
    "                # 在框内添加文本，比如索引号或者特定字符\n",
    "                ax[i, i_t].text(poly_center[0], poly_center[1], f\"{i_label_id}\", \n",
    "                        fontsize=10, ha='center', va='center',\n",
    "                        color=color_list[i_t], transform=ccrs.PlateCarree())\n",
    "\n",
    "            ## 添加legend\n",
    "            # legend_elements = [Line2D([0], [0], color=color_list[i_t],\n",
    "            #                           lw=2, linestyle='-', label=f't={i_t}')\n",
    "            #                    ]\n",
    "            # ax[i, i_t].legend(handles=legend_elements, loc='upper right', fontsize=10)\n",
    "\n",
    "# 创建共享的 colorbar, 水平放置\n",
    "# fig.colorbar(contourf_instance, ax=ax.ravel().tolist(),\n",
    "#              orientation='horizontal',\n",
    "#              shrink=0.3, aspect=20, pad=0.05)  # aspect的值越大，越扁\n",
    "\n",
    "\n",
    "cbar_ax = fig.add_axes([0.92, 0.2, 0.015, 0.6])  # [left, bottom, width, height]\n",
    "cbar = fig.colorbar(contourf_instance, cax=cbar_ax, orientation='vertical', extend = extend)\n",
    "cbar.set_label('单位: K', fontsize=10)\n",
    "\n",
    "\n",
    "\n",
    "# 保存\n",
    "plt.savefig('./img/my_mcs.png', bbox_inches='tight', dpi=300, pad_inches=0.1,  )\n",
    "\n",
    "plt.show()"
   ],
   "outputs": [
    {
     "data": {
      "text/plain": [
       "<Figure size 900x400 with 7 Axes>"
      ],
      "image/png": "[encoded data removed]"
     },
     "metadata": {},
     "output_type": "display_data"
    }
   ],
   "execution_count": 33
  },
  {
   "metadata": {
    "ExecuteTime": {
     "end_time": "2025-07-01T22:22:50.399606Z",
     "start_time": "2025-07-01T22:22:50.396148Z"
    }
   },
   "cell_type": "code",
   "source": "",
   "outputs": [],
   "execution_count": 33
  },
  {
   "metadata": {
    "ExecuteTime": {
     "end_time": "2025-07-01T22:22:50.404996Z",
     "start_time": "2025-07-01T22:22:50.401619Z"
    }
   },
   "cell_type": "code",
   "source": "",
   "outputs": [],
   "execution_count": 33
  }
 ],
 "metadata": {
  "kernelspec": {
   "display_name": "Python 3 (ipykernel)",
   "language": "python",
   "name": "python3"
  },
  "language_info": {
   "codemirror_mode": {
    "name": "ipython",
    "version": 3
   },
   "file_extension": ".py",
   "mimetype": "text/x-python",
   "name": "python",
   "nbconvert_exporter": "python",
   "pygments_lexer": "ipython3",
   "version": "3.11.9"
  },
  "orig_nbformat": 4
 },
 "nbformat": 4,
 "nbformat_minor": 2
}
