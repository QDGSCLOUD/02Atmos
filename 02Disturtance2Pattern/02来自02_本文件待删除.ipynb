{
 "cells": [
  {
   "cell_type": "code",
   "id": "initial_id",
   "metadata": {
    "collapsed": true,
    "ExecuteTime": {
     "end_time": "2025-08-02T03:22:15.820516Z",
     "start_time": "2025-08-02T03:22:14.883011Z"
    }
   },
   "source": [
    "import pandas as pd\n",
    "\n",
    "\"\"\"  \n",
    "此文件用于获取 developing disturbance data 和 non-developing disturbance data\n",
    "文件00： 已经获取到每个时刻的中心点了， 本文件主要对不同时刻进行追踪\n",
    "文件02：  扰动和不发展扰动还未分离\n",
    "注意：    所拿到的场的数据要比想要的场数据大8圈 \n",
    "\n",
    "\n",
    "\"\"\"\n"
   ],
   "outputs": [
    {
     "data": {
      "text/plain": [
       "'  \\n此文件用于获取 developing disturbance data 和 non-developing disturbance data\\n文件00： 已经获取到每个时刻的中心点了， 本文件主要对不同时刻进行追踪\\n文件02：  扰动和不发展扰动还未分离\\n注意：    所拿到的场的数据要比想要的场数据大8圈 \\n\\n\\n'"
      ]
     },
     "execution_count": 1,
     "metadata": {},
     "output_type": "execute_result"
    }
   ],
   "execution_count": 1
  },
  {
   "cell_type": "code",
   "id": "77b69d738f147781",
   "metadata": {
    "ExecuteTime": {
     "end_time": "2025-08-02T03:22:18.504444Z",
     "start_time": "2025-08-02T03:22:15.824529Z"
    }
   },
   "source": [
    "import xarray  as xr\n",
    "import numpy as np\n",
    "import cv2\n",
    "import cartopy.crs as ccrs\n",
    "import cartopy.feature as cfeature \n",
    "import matplotlib.pyplot as plt   \n",
    "from matplotlib import colormaps\n",
    "from typing import Tuple ,  List , Set, Any\n",
    "from numpy.typing import NDArray \n",
    "from cartopy.mpl.ticker import LongitudeFormatter, LatitudeFormatter\n",
    "from matplotlib.patches import Rectangle\n",
    "from scipy import ndimage\n",
    "from collections import defaultdict\n"
   ],
   "outputs": [],
   "execution_count": 2
  },
  {
   "metadata": {},
   "cell_type": "markdown",
   "source": "# 数据处理和绘图class ",
   "id": "121798be429eddd1"
  },
  {
   "cell_type": "code",
   "id": "98272c75bfd1b6f4",
   "metadata": {
    "ExecuteTime": {
     "end_time": "2025-08-02T03:22:18.553026Z",
     "start_time": "2025-08-02T03:22:18.507457Z"
    }
   },
   "source": [
    "\"\"\"  获取数据类  \"\"\"\n",
    "class getInitData( object):\n",
    "    def __init__(self, init_data_pth):\n",
    "        self.init_data_pth = init_data_pth\n",
    "\n",
    "    # 获取原始数据\n",
    "    def get_init_data(self)-> Tuple[np.ndarray, np.ndarray, np.ndarray, np.ndarray, np.ndarray, np.datetime64]:\n",
    "        init_data =  xr.open_dataset(self.init_data_pth)\n",
    "        # 获取每隔6小时的数据 (原始数据间隔为1小时)，  经纬度在下载的时候已经确定  \n",
    "        interval = 6 \n",
    "        init_data = init_data.sel(valid_time=init_data.valid_time.values[::6])\n",
    "        u = init_data.u.values\n",
    "        v = init_data.v.values\n",
    "        vo = init_data.vo.values   # 涡度\n",
    "        lons = init_data.longitude.values\n",
    "        lats = init_data.latitude.values\n",
    "        timeOfSpecific = init_data.valid_time.values\n",
    "        return u,v, vo , lons , lats , timeOfSpecific\n",
    "\n",
    "    #  2D smth9 for (lat, lon) (转写自ncl) \n",
    "    def smth9_2d(self, data: np.ndarray, \n",
    "                 p=0.5, q=0.25) -> np.ndarray:\n",
    "        kernel = np.array([\n",
    "            [p / 4, q / 4, p / 4],\n",
    "            [q / 4, 1 - p - q, q / 4],\n",
    "            [p / 4, q / 4, p / 4]\n",
    "        ])\n",
    "        smoothed = ndimage.convolve(data, kernel, mode='constant', cval=0.0)\n",
    "        return smoothed\n",
    "    \n",
    "    # 覆盖面积计算\n",
    "    @staticmethod\n",
    "    def calculate_overlap(center_point1: tuple,  \n",
    "                          center_point2:  tuple,\n",
    "                          wOfhalf:int , \n",
    "                          hOfhalf : int,\n",
    "                          ration_threshold : float = 0.5\n",
    "                          )  -> float:\n",
    "        mask1 = np.zeros((len(lons), len(lats)))\n",
    "        mask2 = np.zeros((len(lons), len(lats))) \n",
    "\n",
    "        x1 = center_point1[0]\n",
    "        x2 = center_point2[0]\n",
    "        y1 = center_point1[1]\n",
    "        y2 = center_point2[1]\n",
    "        \n",
    "        mask1[x1-wOfhalf:x1+wOfhalf+1, y1-hOfhalf:y1+hOfhalf+1] = 1\n",
    "        mask2[x2-wOfhalf:x2+wOfhalf+1, y2-hOfhalf:y2+hOfhalf+1] = 1\n",
    "        intersection = np.logical_and(mask1, mask2).sum()\n",
    "        \n",
    "        box_area = 2*wOfhalf * 2*hOfhalf\n",
    "        overlap_ration= intersection /box_area\n",
    "        onoff = overlap_ration > ration_threshold\n",
    "\n",
    "        return onoff, overlap_ration\n",
    "\n",
    "# 关于风的处理\n",
    "class WindRelated(object):\n",
    "    def __init__(self, u: np.ndarray, v: np.ndarray, lons: np.ndarray, lats: np.ndarray):\n",
    "        self.u = u\n",
    "        self.v = v\n",
    "        self.lons = lons\n",
    "        self.lats = lats\n",
    "\n",
    "    # 气旋性环流判断\n",
    "    # 后期可以补充一下这个函数\n",
    "\n",
    "     # 风速计算\n",
    "    @staticmethod\n",
    "    def wind_speed(u:np.ndarray, v:np.ndarray):\n",
    "        return np.sqrt(u ** 2 + v ** 2)\n",
    "    \n",
    "\n",
    "\n",
    "\"\"\" 绘图类  \"\"\"\n",
    "class DrawImg( object):\n",
    "    def __init__(self, \n",
    "                 lons: np.ndarray,\n",
    "                 lats: np.ndarray, \n",
    "                 specific_times: np.datetime64,\n",
    "                 variable: tuple,    # (u, v, vo , .....)\n",
    "                 save_img_pth: str, \n",
    "                 ):\n",
    "\n",
    "        self.lons = lons\n",
    "        self.lats = lats\n",
    "        self.specific_times = specific_times\n",
    "        self.u = variable[0]\n",
    "        self.v = variable[1]\n",
    "        self.vo = variable[2]\n",
    "        self.save_img_pth = save_img_pth\n",
    "\n",
    "    def draw_img(self, dist_center_list: List[List[Tuple[Any, Any,]]  ] = None,\n",
    "                 test_list: List[List[Tuple[Any, Any,]]  ] = None,\n",
    "                 ):\n",
    "\n",
    "        wOfBox, hOfBox = 16, 16\n",
    "\n",
    "        # === 第一步：统一 colorbar 的范围 ===\n",
    "        # 找出所有 vo 数据的全局最小最大值（或你也可以手动设置）\n",
    "        vmin = np.min(self.vo)  # 或者用 np.percentile(self.vo, 1)\n",
    "        vmax = np.max(self.vo)  # 或者用 np.percentile(self.vo, 99)\n",
    "        # 如果数据有异常值，建议用：\n",
    "        # vmin, vmax = np.percentile(self.vo, [2, 98])\n",
    "\n",
    "        # === 第二步：创建 4x2 子图 ===\n",
    "        fig, axes = plt.subplots( 4, 2, figsize=(12, 10),\n",
    "                                subplot_kw={'projection': ccrs.PlateCarree()})\n",
    "        axes = axes.flatten()   \n",
    "\n",
    "        # 用于存储每个子图的 contourf 对象（用于 colorbar）\n",
    "        contourf_plots = []\n",
    "        for i in  range(len(self.u)):  # 对对每个时刻进行处理  \n",
    "            ax = axes[i]\n",
    "            # 地理特征       \n",
    "            ax.add_feature(cfeature.LAND, facecolor='lightgray')\n",
    "            ax.add_feature(cfeature.OCEAN, facecolor='lightblue')\n",
    "            ax.add_feature(cfeature.COASTLINE)\n",
    "            ax.add_feature(cfeature.BORDERS, linewidth=0.5)\n",
    "\n",
    "            # 网格线\n",
    "            gl = ax.gridlines(draw_labels=True,\n",
    "                            x_inline=False, y_inline=False,\n",
    "                            linewidth=0.5, color='gray', alpha=0.5, linestyle='--')\n",
    "            gl.top_labels = False\n",
    "            gl.right_labels = False\n",
    "\n",
    "            # 绘制风矢量（在上层）\n",
    "            # # 降采样\n",
    "            skip = (slice(None, None, 6), slice(None, None, 6))\n",
    "            ax.quiver(self.lons[::6], self.lats[::6], self.u[i][skip], self.v[i][skip],\n",
    "                    scale=350,  # 控制箭头长度的缩放比例,值越大箭头越短\n",
    "                    color='k',\n",
    "                    pivot='middle',  # 箭头以(lon,lat)点为中心绘制\n",
    "                    width=0.003,  # 箭头宽度\n",
    "                    headwidth=3,   # 箭头头部宽度\n",
    "                    headlength= 3,  # 箭头头部长度\n",
    "                    zorder=1,\n",
    "                    transform=ccrs.PlateCarree())\n",
    "\n",
    "            # # 画出流线图 \n",
    "            # ax.streamplot(self.lons[::6], self.lats[::6], self.u[i][skip], self.v[i][skip],\n",
    "            #         density= 4,   # 对应流线图  控制流线的数量和紧密程度\n",
    "            #         # scale=350,  # 控制箭头长度的缩放比例,值越大箭头越短\n",
    "            #         # color='k',\n",
    "            #         # pivot='middle',  # 箭头以(lon,lat)点为中心绘制\n",
    "            #         # width=0.003,  # 箭头宽度\n",
    "            #         # headwidth=3,   # 箭头头部宽度\n",
    "            #         # headlength= 3,  # 箭头头部长度\n",
    "            #         color='k',\n",
    "            #         zorder=1,\n",
    "            #         transform=ccrs.PlateCarree())\n",
    "\n",
    "\n",
    "            # 绘制 涡度的填色图（在底层），\n",
    "            cf = ax.contourf(self.lons, self.lats , self.vo[i], \n",
    "                            cmap=colormaps['coolwarm'],\n",
    "                            vmin=vmin, vmax=vmax,  # 关键：统一颜色范围\n",
    "                            transform=ccrs.PlateCarree(),\n",
    "                            zorder=0)\n",
    "            contourf_plots.append(cf)\n",
    "            ax.set_title(f'{self.specific_times[i]}', fontsize=12)\n",
    "\n",
    "            # # 画框\n",
    "            if dist_center_list is not None:\n",
    "                # for i_point in dist_center_list[i]:   \n",
    "                #         (x, y, w, h) = i_point    \n",
    "                #         # 转换索引为地理坐标\n",
    "                #         lon_start = self.lons[x-wOfBox]\n",
    "                #         lat_start = self.lats[y+hOfBox]\n",
    "                #         lon_width = self.lons[x + wOfBox - 1] - lon_start\n",
    "                #         lat_height = self.lats[y - hOfBox - 1] - lat_start\n",
    "\n",
    "                        # # 绘制框 ,  传入左下角的点, 宽 , 高 \n",
    "                        # rect = Rectangle((lon_start, lat_start ),\n",
    "                        #                  lon_width, lat_height,\n",
    "                        #                  linewidth=2, \n",
    "                        #                  edgecolor='red', facecolor='none',\n",
    "                        #                  linestyle='-', \n",
    "                        #                  zorder=5,\n",
    "                        #                  transform=ccrs.PlateCarree())\n",
    "                        # ax.add_patch(rect)\n",
    "                        # ax.scatter(lon_start, lat_start,\n",
    "                        #            c='yellow',\n",
    "                        #            s= 10,  # s 是面积，相当于 markersize^2\n",
    "                        #            transform=ccrs.PlateCarree(),\n",
    "                        #            zorder=6)\n",
    "\n",
    "                # 下方为测试散点\n",
    "                for i_point_test in test_list[i]:   \n",
    "                    x_test , y_test =  i_point_test\n",
    "                    test_lon_start = self.lons[x_test - wOfBox]\n",
    "                    test_lat_start = self.lats[y_test + hOfBox]\n",
    "                    lon_width = self.lons[x_test + wOfBox - 1] - test_lon_start \n",
    "                    lat_height = self.lats[y_test - hOfBox - 1] - test_lat_start\n",
    "                    # ax.scatter(test_lon_start, test_lat_start,  左下角  \n",
    "                    ax.scatter(self.lons[x_test], self.lats[y_test],  \n",
    "                                   c ='yellow', \n",
    "                                   s= 10,  # s 是面积，相当于 markersize^2\n",
    "                                   transform=ccrs.PlateCarree(),\n",
    "                                   zorder=6)\n",
    "                    rect = Rectangle((test_lon_start, test_lat_start ),\n",
    "                                         lon_width, lat_height,\n",
    "                                         linewidth=2, \n",
    "                                         edgecolor='red', facecolor='none',\n",
    "                                         linestyle='-', \n",
    "                                         zorder=5,\n",
    "                                         transform=ccrs.PlateCarree())\n",
    "                    ax.add_patch(rect)\n",
    "\n",
    "        # === 第三步：添加共享 colorbar ===\n",
    "        # 获取最后一个 contourf 对象的颜色映射（所有都一样）\n",
    "        # 使用 fig.colorbar 并指定所有 axes\n",
    "        fig.subplots_adjust(right=0.85)  # 为 colorbar 留出空间\n",
    "        cbar_ax = fig.add_axes([0.87, 0.15, 0.02, 0.7])  # [left, bottom, width, height]\n",
    "        cbar = fig.colorbar(contourf_plots[0], cax=cbar_ax)\n",
    "        cbar.set_label('Vorticity (vo)', fontsize=12)\n"
   ],
   "outputs": [],
   "execution_count": 3
  },
  {
   "cell_type": "markdown",
   "id": "1d89761210933040",
   "metadata": {},
   "source": [
    "# 获取初始变量数据"
   ]
  },
  {
   "cell_type": "code",
   "id": "91bab3ff82c0ffc",
   "metadata": {
    "ExecuteTime": {
     "end_time": "2025-08-02T03:22:22.291071Z",
     "start_time": "2025-08-02T03:22:18.555042Z"
    }
   },
   "source": [
    "init_data_pth = r'C:\\Users\\2892706668\\Desktop\\20230725_0726_850hpa.nc'\n",
    "init_obj = getInitData(init_data_pth)\n",
    "u,v, vo, lons, lats , timeOfSpecific =  (np.squeeze(x) for x in init_obj.get_init_data())\n",
    "# 对时间截取到小时\n",
    "timeOfSpecific = np.datetime_as_string(timeOfSpecific, unit='h')\n",
    "print(u.shape)\n",
    "print(v.shape)\n",
    "print(vo.shape)\n",
    "print(lons.shape)\n",
    "print(lats.shape)\n",
    "\n",
    "u_smth = np.stack([init_obj.smth9_2d(u[t]) for t in range(u.shape[0])], axis=0)\n",
    "v_smth = np.stack([init_obj.smth9_2d(v[t]) for t in range(v.shape[0])], axis=0)\n",
    "vo_smth = np.stack([init_obj.smth9_2d(vo[t]) for t in range(vo.shape[0])], axis=0)\n",
    "\n"
   ],
   "outputs": [
    {
     "name": "stdout",
     "output_type": "stream",
     "text": [
      "(8, 121, 301)\n",
      "(8, 121, 301)\n",
      "(8, 121, 301)\n",
      "(301,)\n",
      "(121,)\n"
     ]
    }
   ],
   "execution_count": 4
  },
  {
   "cell_type": "code",
   "id": "efd34df5f08387eb",
   "metadata": {
    "ExecuteTime": {
     "end_time": "2025-08-02T03:22:22.299421Z",
     "start_time": "2025-08-02T03:22:22.292199Z"
    }
   },
   "source": "print(timeOfSpecific)  ",
   "outputs": [
    {
     "name": "stdout",
     "output_type": "stream",
     "text": [
      "['2023-07-25T00' '2023-07-25T06' '2023-07-25T12' '2023-07-25T18'\n",
      " '2023-07-26T00' '2023-07-26T06' '2023-07-26T12' '2023-07-26T18']\n"
     ]
    }
   ],
   "execution_count": 5
  },
  {
   "cell_type": "code",
   "id": "53fb830d",
   "metadata": {
    "ExecuteTime": {
     "end_time": "2025-08-02T03:22:22.317796Z",
     "start_time": "2025-08-02T03:22:22.302444Z"
    }
   },
   "source": [
    "reso_km = 6371 * np.pi * 0.25 /180\n",
    "print(reso_km, 'km')   \n",
    "print(4/0.25 * reso_km)     #  16个各自对应的实际距离, 以8km为半径\n",
    "\n"
   ],
   "outputs": [
    {
     "name": "stdout",
     "output_type": "stream",
     "text": [
      "27.798731661139684 km\n",
      "444.77970657823494\n"
     ]
    }
   ],
   "execution_count": 6
  },
  {
   "cell_type": "markdown",
   "id": "fbc46a3fd93df8cc",
   "metadata": {},
   "source": [
    "# 扰动识别"
   ]
  },
  {
   "cell_type": "code",
   "id": "99a82804ee84db41",
   "metadata": {
    "ExecuteTime": {
     "end_time": "2025-08-02T03:22:22.330987Z",
     "start_time": "2025-08-02T03:22:22.320808Z"
    }
   },
   "source": [
    "\"\"\" \n",
    "1. 物理识别标准：\n",
    "    上方数据已完成9点平滑\n",
    "    有点难找# 1. 先找可能的环流， 主要按照东南西北风\n",
    "    1. 利用涡度3*10^-5 来框选涡度, 选出最大涡度作为初步的中心\n",
    "    2. 在环流中找到最接近最大涡度的点作为中心  \n",
    "       XXXXXXXXX 我尝试了找每个点的上下左右， 但是不行\n",
    "       XXXXXXXXX 我尝试：  边界先是逆时针旋转的环流，然后往里面缩， 最终确定扰动中心 ,也不行\n",
    "    3. 在框出的box区域中， 以2度 ，也就是8个格点为半径， 找出距离最大涡度最近的点（此处我没有用最小风速， 因为感觉效果不咋地）\n",
    "    4. 再 以4度为中心，也就是16个格点， 判断框选的边上对应的环流， 最外层的环流一定要符合 u，v 方向的判断\n",
    "    5. 跟踪， 也就是第t时刻和t+1时刻的连续的两张图中的点进行追踪 \n",
    "\"\"\""
   ],
   "outputs": [
    {
     "data": {
      "text/plain": [
       "' \\n1. 物理识别标准：\\n    上方数据已完成9点平滑\\n    有点难找# 1. 先找可能的环流， 主要按照东南西北风\\n    1. 利用涡度3*10^-5 来框选涡度, 选出最大涡度作为初步的中心\\n    2. 在环流中找到最接近最大涡度的点作为中心  \\n       XXXXXXXXX 我尝试了找每个点的上下左右， 但是不行\\n       XXXXXXXXX 我尝试：  边界先是逆时针旋转的环流，然后往里面缩， 最终确定扰动中心 ,也不行\\n    3. 在框出的box区域中， 以2度 ，也就是8个格点为半径， 找出距离最大涡度最近的点（此处我没有用最小风速， 因为感觉效果不咋地）\\n    4. 再 以4度为中心，也就是16个格点， 判断框选的边上对应的环流， 最外层的环流一定要符合 u，v 方向的判断\\n    5. 跟踪， 也就是第t时刻和t+1时刻的连续的两张图中的点进行追踪 \\n'"
      ]
     },
     "execution_count": 7,
     "metadata": {},
     "output_type": "execute_result"
    }
   ],
   "execution_count": 7
  },
  {
   "metadata": {
    "ExecuteTime": {
     "end_time": "2025-08-02T03:22:22.338879Z",
     "start_time": "2025-08-02T03:22:22.335003Z"
    }
   },
   "cell_type": "code",
   "source": "",
   "id": "695d563bf73545e1",
   "outputs": [],
   "execution_count": 7
  },
  {
   "metadata": {
    "ExecuteTime": {
     "end_time": "2025-08-02T07:16:06.187966Z",
     "start_time": "2025-08-02T07:16:06.122804Z"
    }
   },
   "cell_type": "code",
   "source": [
    "# 拿到环流点 \n",
    "\"\"\"  此处对拿到的框的内部点， 每个点都遍历一遍，从内向外找  \"\"\" \n",
    "class RecognizeDisturbace(object):   \n",
    "    def __init__(self,\n",
    "                 t_length: int,\n",
    "                 u_smth: np.ndarray,\n",
    "                 v_smth: np.ndarray,\n",
    "                 vo_smth: np.ndarray,\n",
    "                 lons: np.ndarray,\n",
    "                 lats: np.ndarray, ):\n",
    "        self.t_length: int = t_length       \n",
    "        self.u_smth: np.ndarray = u_smth    #  3D array (time, lat, lon)\n",
    "        self.v_smth: np.ndarray = v_smth\n",
    "        self.vo_smth: np.ndarray = vo_smth\n",
    "        self.lons: np.ndarray = lons       # 1D array \n",
    "        self.lats: np.ndarray = lats      \n",
    "\n",
    "    # 识别逆时针环流、 判断环流区域内的最小风速 \n",
    "    def getDstCenter(self, radius_threshold: int = (4/0.25 )):     # 分辨率是0.25， 此处采用4度, 也就是16个格点\n",
    "        H, W = self.u_smth.shape[1], self.u_smth.shape[2]\n",
    "        lenOfHalfBox = int(radius_threshold/2)\n",
    "        all_time_center_list = []  \n",
    "        all_test_list = []\n",
    "        for i_t in range(self.t_length):  \n",
    "            i_t_center_list = []   \n",
    "            test_list = []\n",
    "            # condition1 :  先找出涡度 大于 3*10^-5\n",
    "            vo_threshold = 3*(10**-5)\n",
    "            conditionOfVo = np.where(self.vo_smth[i_t] > vo_threshold, 255 , 0).astype(np.uint8)\n",
    "            contours, _ = cv2.findContours(conditionOfVo, cv2.RETR_EXTERNAL, cv2.CHAIN_APPROX_SIMPLE)\n",
    "\n",
    "            # # 画出conditionOfVo对应的黑白图\n",
    "            # plt.imshow(conditionOfVo, cmap='gray')\n",
    "\n",
    "            for cnt in contours:            \n",
    "                x, y, w, h = cv2.boundingRect(cnt)  # 如果用 w = h = 16 就找不到了\n",
    "                # condition2: 对涡度找到的box计算其面积\n",
    "                # box_area_threshold =   (4/0.25 )**2      # 分辨率是0.25， 此处采用4度\n",
    "                area_threshold = radius_threshold**2 \n",
    "                box_area = w * h \n",
    "                if box_area >  area_threshold:\n",
    "                    # condition3: \n",
    "                    mask = np.zeros(self.vo_smth[i_t].shape, dtype=np.uint8)\n",
    "                    cv2.drawContours(mask, [cnt], -1, 255, cv2.FILLED)\n",
    "                    max_y, max_x = np.unravel_index(\n",
    "                        np.argmax(np.where(mask == 255, self.vo_smth[i_t], -np.inf)),\n",
    "                        self.vo_smth[i_t].shape\n",
    "                    )\n",
    "                    i_t_center_list.append((max_x, max_y, w,h))\n",
    "                    \n",
    "                    # 记录候选中心\n",
    "                    valid_candidates = []\n",
    "                    \n",
    "                    # 获取轮廓内的所有点（或可改为稀疏采样：步长>1）\n",
    "                    coords = np.where(mask == 255)\n",
    "                    ys, xs = coords[0], coords[1]\n",
    "                    \n",
    "                    \n",
    "                    # 遍历轮廓内每个点\n",
    "                    for x, y in zip(xs, ys):  # 提高计算速度， 可以稀疏采样   对xs, ys 取[::2]  \n",
    "                        if not (y >= lenOfHalfBox and y < H - lenOfHalfBox and x >= lenOfHalfBox and x < W - lenOfHalfBox):\n",
    "                            continue  # 跳出靠近边界的点\n",
    "                    \n",
    "                        # 检查以 (x, y) 为中心，在 lenOfHalfBox 范围内是否满足环流结构\n",
    "                        has_north_u = has_south_u = has_west_v = has_east_v = False\n",
    "                        radius = 1  # 从内圈开始向外\n",
    "                        max_radius = lenOfHalfBox\n",
    "                    \n",
    "                        while radius <= max_radius:\n",
    "                            # 北边：u[y - radius, x] < 0 （北风向南吹）\n",
    "                            if radius <= y:\n",
    "                                u_north = self.u_smth[i_t][y - radius, x]\n",
    "                                if u_north < 0:\n",
    "                                    has_north_u = True\n",
    "\n",
    "                            # 南边：u[y + radius, x] > 0 （南风向北吹）\n",
    "                            if radius < H - y:\n",
    "                                u_south = self.u_smth[i_t][y + radius, x]\n",
    "                                if u_south > 0:\n",
    "                                    has_south_u = True\n",
    "                    \n",
    "                            # 西边：v[y, x - radius] < 0 （西风向东吹）\n",
    "                            if radius <= x:\n",
    "                                v_west = self.v_smth[i_t][y, x - radius]\n",
    "                                if v_west < 0:\n",
    "                                    has_west_v = True\n",
    "                    \n",
    "                            # 东边：v[y, x + radius] > 0 （东风向西吹）\n",
    "                            if radius < W - x:\n",
    "                                v_east = self.v_smth[i_t][y, x + radius]\n",
    "                                if v_east > 0:\n",
    "                                    has_east_v = True\n",
    "                    \n",
    "                            # 提前退出：如果四个方向都已经满足过，无需继续向外\n",
    "                            if has_north_u and has_south_u and has_west_v and has_east_v:\n",
    "                                break\n",
    "                    \n",
    "                            radius += 1\n",
    "                    \n",
    "                        # 判断是否构成完整环流\n",
    "                        if np.all([has_north_u, has_south_u, has_west_v, has_east_v]) :  # 至少3个方向满足\n",
    "                            valid_candidates.append((x, y))\n",
    "                    \n",
    "                    # 对每个点在进行筛选\n",
    "                    refined_candidates = []\n",
    "\n",
    "                    # 定义检查的两层（最外和次外）\n",
    "                    outer_radius = 16\n",
    "                    inner_radius = 15\n",
    "                    # radii_to_check = [outer_radius, inner_radius]  # 可改为 lenOfHalfBox, lenOfHalfBox-1\n",
    "                    radii_to_check = [outer_radius]\n",
    "                    \n",
    "                    for (x, y) in valid_candidates:\n",
    "                        # 边界检查：确保能取到 r=16 的外围点\n",
    "                        if not (y >= outer_radius and y < H - outer_radius and x >= outer_radius and x < W - outer_radius):\n",
    "                            continue\n",
    "                           # 四个方向的状态：是否至少有一层满足\n",
    "                        north_ok = False\n",
    "                        south_ok = False\n",
    "                        west_ok = False\n",
    "                        east_ok = False\n",
    "                    \n",
    "                        # 记录每个方向是否“至少有一层满足”\n",
    "                        directions_ok = 0  # 满足条件的方向数\n",
    "                    \n",
    "                        for r in radii_to_check:\n",
    "                            # 北：u[y - r, x] < 0\n",
    "                            if not north_ok:\n",
    "                                u_north = self.u_smth[i_t][y - r, x]\n",
    "                                if u_north < 0:\n",
    "                                    north_ok = True\n",
    "                                    directions_ok += 1\n",
    "                    \n",
    "                            # 南：u[y + r, x] > 0\n",
    "                            if not south_ok:\n",
    "                                u_south = self.u_smth[i_t][y + r, x]\n",
    "                                if u_south > 0:\n",
    "                                    south_ok = True\n",
    "                                    directions_ok += 1\n",
    "                    \n",
    "                            # 西：v[y, x - r] < 0\n",
    "                            if not west_ok:\n",
    "                                v_west = self.v_smth[i_t][y, x - r]\n",
    "                                if v_west < 0:\n",
    "                                    west_ok = True\n",
    "                                    directions_ok += 1\n",
    "                    \n",
    "                            # 东：v[y, x + r] > 0\n",
    "                            if not east_ok:\n",
    "                                v_east = self.v_smth[i_t][y, x + r]\n",
    "                                if v_east > 0:\n",
    "                                    east_ok = True\n",
    "                                    directions_ok += 1\n",
    "                    \n",
    "                        # 判断：至少两个方向满足\n",
    "                        if directions_ok >= 4:\n",
    "                            refined_candidates.append((x, y))\n",
    "                    \n",
    "                    # === 从 refined_candidates 中选择最终中心 ===\n",
    "                    if refined_candidates:\n",
    "                        candidates_array = np.array(refined_candidates)\n",
    "                        distances = np.linalg.norm(candidates_array - np.array([max_x, max_y]), axis=1)\n",
    "                        best_idx = np.argmin(distances)\n",
    "                        final_center_x, final_center_y = refined_candidates[best_idx]\n",
    "                     \n",
    "                        test_list.append((final_center_x, final_center_y))\n",
    "                    else:\n",
    "                        pass\n",
    "\n",
    "            all_test_list.append(test_list)    # 更加精确的中心\n",
    "            all_time_center_list.append(i_t_center_list)   # 粗滤的中心点\n",
    "\n",
    "        return all_time_center_list , all_test_list\n",
    "    \n",
    "    \n",
    "    # 构造对象后可以独立的使用\n",
    "    def trackDstCenter(self, all_test_list: list, \n",
    "                             wOfhalf: int = 16,\n",
    "                             hOfhalf: int = 16,\n",
    "                             overlap_thresh: float = 0.7\n",
    "                       ):    \n",
    "        tracked_list = []  # 存储每个时刻的 (x, y, id)\n",
    "        next_id = 0        # 全局 ID 计数器\n",
    "        for i, current_points in enumerate(all_test_list):\n",
    "            current_tracked = []  # 当前时刻的 (x, y, id)\n",
    "        \n",
    "            if i == 0:\n",
    "                # 第一帧：每个点分配新 ID\n",
    "                for point in current_points:\n",
    "                    current_tracked.append((point[0], point[1], next_id))\n",
    "                    next_id += 1\n",
    "            else:\n",
    "                prev_tracked = tracked_list[i - 1]  # 上一帧的 (x, y, id)\n",
    "                used_ids: Set[int] = set()         # 记录已被匹配的 ID，防止重复使用\n",
    "        \n",
    "                for point in current_points:\n",
    "                    best_match_id = None\n",
    "                    best_overlap_ratio = 0.0\n",
    "        \n",
    "                    # 尝试匹配上一帧的所有点\n",
    "                    for px, py, pid in prev_tracked:\n",
    "                        onoff, overlap_ratio = getInitData.calculate_overlap(\n",
    "                            center_point1=(px, py),\n",
    "                            center_point2=point,\n",
    "                            wOfhalf=wOfhalf,\n",
    "                            hOfhalf=hOfhalf,\n",
    "                          \n",
    "                            ration_threshold=overlap_thresh  # 注意：这里传入的是判断阈值\n",
    "                        )\n",
    "\n",
    "                        if onoff and overlap_ratio > best_overlap_ratio:\n",
    "                            best_overlap_ratio = overlap_ratio\n",
    "                            best_match_id = pid\n",
    "\n",
    "                    if best_match_id is not None and best_match_id not in used_ids:\n",
    "                        # 成功匹配，复用 ID\n",
    "                        current_tracked.append((point[0], point[1], best_match_id))\n",
    "                        used_ids.add(best_match_id)\n",
    "                    else:\n",
    "                        # 无匹配，分配新 ID\n",
    "                        current_tracked.append((point[0], point[1], next_id))\n",
    "                        next_id += 1\n",
    "        \n",
    "            tracked_list.append(current_tracked)\n",
    "        \n",
    "        # 对时间进行筛选， 也就是每个id呈现的次数\n",
    "        id_count = defaultdict(int)  # id -> 出现次数\n",
    "        for frame in tracked_list:\n",
    "            for x, y, id_ in frame:\n",
    "                id_count[id_] += 1\n",
    "                \n",
    "        count_threshold = 7   # 找到出现过7次的id \n",
    "        valid_ids = {id_ for id_, count in id_count.items() if count >= count_threshold}\n",
    "        \n",
    "        print(f\"原始 ID 数量: {len(id_count)}\")\n",
    "        print(f\"保留的长寿命 ID 数量 (>=7帧): {len(valid_ids)}\")\n",
    "        print(f\"保留的 ID: {sorted(valid_ids)}\")\n",
    "        \n",
    "        # 获取最终的追踪列表 \n",
    "        filtered_tracked_list = []\n",
    "        real_lonlatlist = []\n",
    "        for frame in tracked_list:\n",
    "            filtered_frame = []\n",
    "            i_frame_real_lonlatlist = []\n",
    "            for x, y, id_ in frame:\n",
    "                if id_ in valid_ids:\n",
    "                    filtered_frame.append((x, y, id_))\n",
    "                    \n",
    "                    i_frame_real_lonlatlist.append((self.lons[x].item(), self.lats[y].item(), id_))\n",
    "            \n",
    "            filtered_tracked_list.append(filtered_frame)\n",
    "            real_lonlatlist.append(i_frame_real_lonlatlist)\n",
    "        tracked_list = filtered_tracked_list\n",
    "        return tracked_list , real_lonlatlist\n",
    "        "
   ],
   "id": "b2210c2037fcbd35",
   "outputs": [],
   "execution_count": 108
  },
  {
   "cell_type": "code",
   "id": "9763763a",
   "metadata": {
    "ExecuteTime": {
     "end_time": "2025-08-02T07:16:09.958696Z",
     "start_time": "2025-08-02T07:16:06.731129Z"
    }
   },
   "source": [
    "t_length = len(timeOfSpecific) \n",
    "getDistCenterObj = RecognizeDisturbace( t_length, u_smth, v_smth,vo_smth, lons, lats  )\n",
    "get_dist_centerlist , test_list = getDistCenterObj.getDstCenter()  \n",
    "tracked_list, real_lonlatlist = getDistCenterObj.trackDstCenter(test_list)"
   ],
   "outputs": [
    {
     "name": "stdout",
     "output_type": "stream",
     "text": [
      "原始 ID 数量: 5\n",
      "保留的长寿命 ID 数量 (>=7帧): 3\n",
      "保留的 ID: [0, 1, 2]\n"
     ]
    }
   ],
   "execution_count": 109
  },
  {
   "metadata": {
    "ExecuteTime": {
     "end_time": "2025-08-02T07:16:11.000785Z",
     "start_time": "2025-08-02T07:16:10.994544Z"
    }
   },
   "cell_type": "code",
   "source": [
    "print(real_lonlatlist)\n",
    "print(tracked_list)"
   ],
   "id": "c6f5b9813a472037",
   "outputs": [
    {
     "name": "stdout",
     "output_type": "stream",
     "text": [
      "[[(141.0, 6.5, 0), (124.25, 17.5, 1), (153.75, 23.25, 2)], [(140.5, 7.25, 0), (124.0, 18.5, 1), (153.5, 23.0, 2)], [(139.25, 8.75, 0), (122.75, 18.75, 1), (152.5, 24.75, 2)], [(139.25, 7.75, 0), (121.5, 19.0, 1), (152.75, 23.75, 2)], [(140.25, 7.5, 0), (121.25, 19.0, 1), (152.25, 23.5, 2)], [(141.5, 7.75, 0), (121.25, 19.0, 1), (151.5, 23.5, 2)], [(139.25, 8.5, 0), (120.75, 19.75, 1), (149.5, 23.5, 2)], [(140.75, 9.5, 0), (149.75, 24.0, 2), (120.0, 20.25, 1)]]\n",
      "[[(144, 94, 0), (77, 50, 1), (195, 27, 2)], [(142, 91, 0), (76, 46, 1), (194, 28, 2)], [(137, 85, 0), (71, 45, 1), (190, 21, 2)], [(137, 89, 0), (66, 44, 1), (191, 25, 2)], [(141, 90, 0), (65, 44, 1), (189, 26, 2)], [(146, 89, 0), (65, 44, 1), (186, 26, 2)], [(137, 86, 0), (63, 41, 1), (178, 26, 2)], [(143, 82, 0), (179, 24, 2), (60, 39, 1)]]\n"
     ]
    }
   ],
   "execution_count": 110
  },
  {
   "metadata": {
    "ExecuteTime": {
     "end_time": "2025-08-02T03:22:28.780017Z",
     "start_time": "2025-08-02T03:22:24.446891Z"
    }
   },
   "cell_type": "code",
   "source": [
    "\"\"\"  将所有满足连续时刻的点都画在同一张图上 \"\"\"\n",
    "wOfBox, hOfBox = 16, 16\n",
    "vmin = np.min(vo_smth)  # 或者用 np.percentile(self.vo, 1)\n",
    "vmax = np.max(vo_smth)  # 或者用 np.percentile(self.vo, 99)\n",
    "\n",
    "fig, axes = plt.subplots( 1,1, figsize=(12, 10),\n",
    "                        subplot_kw={'projection': ccrs.PlateCarree()})\n",
    "ax = axes\n",
    "# 用于存储每个子图的 contourf 对象（用于 colorbar）\n",
    "for i in range(len(timeOfSpecific)):     \n",
    "    ax.add_feature(cfeature.LAND, facecolor='lightgray')\n",
    "    ax.add_feature(cfeature.OCEAN, facecolor='white')\n",
    "    ax.add_feature(cfeature.COASTLINE)\n",
    "    ax.add_feature(cfeature.BORDERS, linewidth=0.5)\n",
    "\n",
    "    # 网格线\n",
    "    gl = ax.gridlines(draw_labels=True,\n",
    "                    x_inline=False, y_inline=False,\n",
    "                    linewidth=0.5, color='gray', alpha=0.5, linestyle='--')\n",
    "    gl.top_labels = False\n",
    "    gl.right_labels = False\n",
    "\n",
    "    # # 画框\n",
    "    colorlist = ['red', 'green', 'blue', 'yellow', 'purple', 'orange', 'gray', 'pink']\n",
    "    if test_list is not None:\n",
    "        # 下方为测试散点    \n",
    "        for i_point_test in tracked_list[i]: \n",
    "            print(i_point_test)\n",
    "            x_test , y_test, id =  i_point_test\n",
    "            \n",
    "            test_lon_start = lons[x_test - wOfBox]\n",
    "            test_lat_start = lats[y_test + hOfBox]\n",
    "            lon_width = lons[x_test + wOfBox - 1] - test_lon_start \n",
    "            lat_height = lats[y_test - hOfBox - 1] - test_lat_start\n",
    "            # ax.scatter(test_lon_start, test_lat_start,  左下角  \n",
    "\n",
    "            ax.scatter(lons[x_test], lats[y_test],  \n",
    "                           # c = colorlist[i],\n",
    "                           c = 'k',\n",
    "                           s= 10,  # s 是面积，相当于 markersize^2\n",
    "                           transform=ccrs.PlateCarree(),\n",
    "                           zorder=6)\n",
    "            rect = Rectangle((test_lon_start, test_lat_start ),\n",
    "                                 lon_width, lat_height,\n",
    "                                 linewidth=2, \n",
    "                                 edgecolor='red', facecolor='none',\n",
    "                                 linestyle='-', \n",
    "                                 zorder=5,\n",
    "                                 transform=ccrs.PlateCarree())\n",
    "            ax.add_patch(rect)\n",
    "\n",
    "            # 标记点对应的时刻的索引\n",
    "            ax.text(\n",
    "                lons[x_test],  # x 坐标（经度）\n",
    "                lats[y_test] + 0.1,  # y 坐标（纬度）稍微上移 0.1 度\n",
    "                str(i),  # 标注内容（这里用 `i` 作为示例）\n",
    "                # color=colorlist[i],\n",
    "                color = 'k',\n",
    "                fontsize= 15,\n",
    "                transform=ccrs.PlateCarree(),\n",
    "                zorder=7  # 确保文本在散点和矩形之上\n",
    "        )\n"
   ],
   "id": "6fb421f78e2345a",
   "outputs": [
    {
     "name": "stdout",
     "output_type": "stream",
     "text": [
      "(144, 94, 0)\n",
      "(77, 50, 1)\n",
      "(195, 27, 2)\n",
      "(142, 91, 0)\n",
      "(76, 46, 1)\n",
      "(194, 28, 2)\n",
      "(137, 85, 0)\n",
      "(71, 45, 1)\n",
      "(190, 21, 2)\n",
      "(137, 89, 0)\n",
      "(66, 44, 1)\n",
      "(191, 25, 2)\n",
      "(141, 90, 0)\n",
      "(65, 44, 1)\n",
      "(189, 26, 2)\n",
      "(146, 89, 0)\n",
      "(65, 44, 1)\n",
      "(186, 26, 2)\n",
      "(137, 86, 0)\n",
      "(63, 41, 1)\n",
      "(178, 26, 2)\n",
      "(143, 82, 0)\n",
      "(179, 24, 2)\n",
      "(60, 39, 1)\n"
     ]
    },
    {
     "data": {
      "text/plain": [
       "<Figure size 1200x1000 with 1 Axes>"
      ],
      "image/png": "[encoded data removed]"
     },
     "metadata": {},
     "output_type": "display_data"
    }
   ],
   "execution_count": 10
  },
  {
   "metadata": {},
   "cell_type": "markdown",
   "source": "# 判断发展扰动还是不发展扰动",
   "id": "f7627d8e586f511b"
  },
  {
   "metadata": {},
   "cell_type": "markdown",
   "source": "## 用csv文件",
   "id": "915228816764119a"
  },
  {
   "metadata": {
    "ExecuteTime": {
     "end_time": "2025-08-02T03:22:33.388673Z",
     "start_time": "2025-08-02T03:22:28.782026Z"
    }
   },
   "cell_type": "code",
   "source": [
    "import pandas as pd \n",
    "file_pth = r\"C:\\Users\\2892706668\\Desktop\\ibtracs.WP.list.v04r01.csv\"\n",
    "tc_data = pd.read_csv(file_pth)\n",
    "print(tc_data)"
   ],
   "id": "aab1a2e91f86b210",
   "outputs": [
    {
     "name": "stderr",
     "output_type": "stream",
     "text": [
      "C:\\Users\\2892706668\\AppData\\Local\\Temp\\ipykernel_24228\\1432482976.py:3: DtypeWarning: Columns (1,2,8,9,14,142,143,144,172,173) have mixed types. Specify dtype option on import or set low_memory=False.\n",
      "  tc_data = pd.read_csv(file_pth)\n"
     ]
    },
    {
     "name": "stdout",
     "output_type": "stream",
     "text": [
      "                  SID SEASON NUMBER BASIN SUBBASIN     NAME  \\\n",
      "0                       Year                                  \n",
      "1       1884177N17124   1884     14    WP       MM  UNNAMED   \n",
      "2       1884177N17124   1884     14    WP       MM  UNNAMED   \n",
      "3       1884177N17124   1884     14    WP       MM  UNNAMED   \n",
      "4       1884177N17124   1884     14    WP       MM  UNNAMED   \n",
      "...               ...    ...    ...   ...      ...      ...   \n",
      "245588  2025205N13144   2025     48    WP       MM    KROSA   \n",
      "245589  2025205N13144   2025     48    WP       MM    KROSA   \n",
      "245590  2025205N13144   2025     48    WP       MM    KROSA   \n",
      "245591  2025205N13144   2025     48    WP       MM    KROSA   \n",
      "245592  2025205N13144   2025     48    WP       MM    KROSA   \n",
      "\n",
      "                   ISO_TIME NATURE            LAT           LON  ...  \\\n",
      "0                                   degrees_north  degrees_east  ...   \n",
      "1       1884-06-24 16:00:00     NR           16.5         124.0  ...   \n",
      "2       1884-06-24 18:00:00     NR           16.5         123.8  ...   \n",
      "3       1884-06-24 21:00:00     NR           16.6         123.5  ...   \n",
      "4       1884-06-25 00:00:00     NR           16.7         123.2  ...   \n",
      "...                     ...    ...            ...           ...  ...   \n",
      "245588  2025-07-30 12:00:00     NR           29.0         143.2  ...   \n",
      "245589  2025-07-30 15:00:00     NR           29.1         143.2  ...   \n",
      "245590  2025-07-30 18:00:00     NR           29.3         143.2  ...   \n",
      "245591  2025-07-30 21:00:00     NR           29.6         143.1  ...   \n",
      "245592  2025-07-31 00:00:00     NR           30.0         142.9  ...   \n",
      "\n",
      "       BOM_GUST_PER REUNION_GUST REUNION_GUST_PER USA_SEAHGT USA_SEARAD_NE  \\\n",
      "0            second          kts           second         ft         nmile   \n",
      "1                                                                            \n",
      "2                                                                            \n",
      "3                                                                            \n",
      "4                                                                            \n",
      "...             ...          ...              ...        ...           ...   \n",
      "245588                                                                       \n",
      "245589                                                                       \n",
      "245590                                                                       \n",
      "245591                                                                       \n",
      "245592                                                                       \n",
      "\n",
      "       USA_SEARAD_SE USA_SEARAD_SW USA_SEARAD_NW STORM_SPEED STORM_DIR  \n",
      "0              nmile         nmile         nmile         kts   degrees  \n",
      "1                                                          6       280  \n",
      "2                                                          6       280  \n",
      "3                                                          6       285  \n",
      "4                                                          6       285  \n",
      "...              ...           ...           ...         ...       ...  \n",
      "245588                                                     2       335  \n",
      "245589                                                     3         0  \n",
      "245590                                                     5       350  \n",
      "245591                                                     7       340  \n",
      "245592                                                     8       335  \n",
      "\n",
      "[245593 rows x 174 columns]\n"
     ]
    }
   ],
   "execution_count": 11
  },
  {
   "metadata": {
    "ExecuteTime": {
     "end_time": "2025-08-02T03:22:33.601813Z",
     "start_time": "2025-08-02T03:22:33.389718Z"
    }
   },
   "cell_type": "code",
   "source": [
    "# mask = ((tc_data.ISO_TIME >= '2023-07-25 00:00:00')&(tc_data.ISO_TIME <= '2023-07-26 18:00:00'))\n",
    "pd_time_range = pd.date_range(start='2023-07-25 00:00:00', end='2023-07-26 18:00:00', freq='6h')\n",
    "tc_data['ISO_TIME'] = pd.to_datetime(tc_data['ISO_TIME'], format='%Y-%m-%d %H:%M:%S', errors='coerce')\n",
    "mask = tc_data.ISO_TIME.isin(pd_time_range)\n",
    "tc_dataOfCleaning = tc_data[mask] \n"
   ],
   "id": "7590c68d483de54b",
   "outputs": [],
   "execution_count": 12
  },
  {
   "metadata": {
    "ExecuteTime": {
     "end_time": "2025-08-02T04:03:21.486555Z",
     "start_time": "2025-08-02T04:03:21.409769Z"
    }
   },
   "cell_type": "code",
   "source": "",
   "id": "10e2cf3a1993e37d",
   "outputs": [
    {
     "name": "stdout",
     "output_type": "stream",
     "text": [
      "['124.6' '123.8' '122.7' '121.5' '121.4' '121.0' '120.6' '120.0' '141.1'\n",
      " '141.3' '141.0']\n"
     ]
    }
   ],
   "execution_count": 59
  },
  {
   "metadata": {},
   "cell_type": "code",
   "outputs": [],
   "execution_count": null,
   "source": "",
   "id": "d72d9991f7e8844d"
  },
  {
   "metadata": {
    "ExecuteTime": {
     "end_time": "2025-08-02T03:22:33.611995Z",
     "start_time": "2025-08-02T03:22:33.603821Z"
    }
   },
   "cell_type": "code",
   "source": [
    "# print(tc_dataOfCleaning.ISO_TIME.values)\n",
    "# print(\"pd_time_range:\")\n"
   ],
   "id": "c6ac039a61a21e07",
   "outputs": [],
   "execution_count": 13
  },
  {
   "metadata": {
    "ExecuteTime": {
     "end_time": "2025-08-02T03:43:53.545068Z",
     "start_time": "2025-08-02T03:43:53.533682Z"
    }
   },
   "cell_type": "code",
   "source": [
    "# 储存不同时刻台风位置和 i_sid \n",
    "all_SIDs = tc_dataOfCleaning.SID.unique()\n",
    "# 使用 groupby 一次性分组\n",
    "all_t_TCPoints = []\n",
    "for i_isotime, group in tc_dataOfCleaning.groupby('ISO_TIME'):\n",
    "    i_t_TcPoints =  []\n",
    "    i_t_lons= group['USA_LON'].values  # 某个时刻的所有台风的经度\n",
    "    i_t_lats = group['USA_LAT'].values\n",
    "    i_t_sids = group['SID']\n",
    "    for i_lon, i_lat, i_sid in zip(i_t_lons, i_t_lats, i_t_sids):\n",
    "        i_t_TcPoints.append((np.float64(i_lon), np.float64(i_lat), i_sid))\n",
    "    all_t_TCPoints.append(i_t_TcPoints)\n"
   ],
   "id": "6ec717a0137a7bf9",
   "outputs": [],
   "execution_count": 51
  },
  {
   "metadata": {
    "ExecuteTime": {
     "end_time": "2025-08-02T03:42:57.000084Z",
     "start_time": "2025-08-02T03:42:56.990508Z"
    }
   },
   "cell_type": "code",
   "source": "print(all_t_TCPoints)",
   "id": "d02df38350b43751",
   "outputs": [
    {
     "name": "stdout",
     "output_type": "stream",
     "text": [
      "[[(124.6, 17.7, '2023201N13134')], [(123.8, 18.3, '2023201N13134')], [(122.7, 18.9, '2023201N13134')], [(121.5, 19.0, '2023201N13134')], [(121.4, 18.9, '2023201N13134')], [(121.0, 19.3, '2023201N13134'), (141.1, 9.0, '2023207N09141')], [(120.6, 19.6, '2023201N13134'), (141.3, 9.7, '2023207N09141')], [(120.0, 20.0, '2023201N13134'), (141.0, 10.6, '2023207N09141')]]\n"
     ]
    }
   ],
   "execution_count": 49
  },
  {
   "metadata": {
    "ExecuteTime": {
     "end_time": "2025-08-02T04:58:41.125210Z",
     "start_time": "2025-08-02T04:58:41.118483Z"
    }
   },
   "cell_type": "code",
   "source": "reso_km * 10",
   "id": "70870a0fb6a5d3ff",
   "outputs": [
    {
     "data": {
      "text/plain": [
       "277.98731661139686"
      ]
     },
     "execution_count": 65,
     "metadata": {},
     "output_type": "execute_result"
    }
   ],
   "execution_count": 65
  },
  {
   "metadata": {
    "ExecuteTime": {
     "end_time": "2025-08-02T04:58:51.911010Z",
     "start_time": "2025-08-02T04:58:48.927835Z"
    }
   },
   "cell_type": "code",
   "source": [
    "\"\"\"  将所有的时刻的点都画在同一张图上 \"\"\"\n",
    "# wOfBox, hOfBox = 16, 16\n",
    "wOfBox, hOfBox = 10, 10 \n",
    "\n",
    "vmin = np.min(vo_smth)  # 或者用 np.percentile(self.vo, 1)\n",
    "vmax = np.max(vo_smth)  # 或者用 np.percentile(self.vo, 99)\n",
    "\n",
    "fig, axes = plt.subplots( 1,1, figsize=(12, 10),\n",
    "                        subplot_kw={'projection': ccrs.PlateCarree()})\n",
    "ax = axes\n",
    "# 用于存储每个子图的 contourf 对象（用于 colorbar）\n",
    "ax.set_extent([lons.min(), lons.max(), lats.min(), lats.max()], crs=ccrs.PlateCarree())\n",
    "for i in range(len(pd_time_range)):     \n",
    "    ax.add_feature(cfeature.LAND, facecolor='lightgray')\n",
    "    ax.add_feature(cfeature.OCEAN, facecolor='white')\n",
    "    ax.add_feature(cfeature.COASTLINE,)\n",
    "    ax.add_feature(cfeature.BORDERS, linewidth=0.1)\n",
    "\n",
    "    # 网格线\n",
    "    gl = ax.gridlines(draw_labels=True,\n",
    "                    x_inline=False, y_inline=False,\n",
    "                    linewidth=0.5, color='gray', alpha=0.5, linestyle='--')\n",
    "    gl.top_labels = False\n",
    "    gl.right_labels = False\n",
    "\n",
    "    # # 画框\n",
    "    colorlist = ['red', 'green', 'blue', 'yellow', 'purple', 'orange', 'gray', 'pink']\n",
    "    if all_t_TCPoints is not None:\n",
    "        # 下方为TC中心 \n",
    "        for i_point_test in all_t_TCPoints[i]: \n",
    "            # print(i_point_test)\n",
    "            x_test , y_test, sid =  i_point_test\n",
    "            ax.scatter(  x_test, y_test  ,       #lons[x_test], lats[y_test],  \n",
    "                           # c = colorlist[i],\n",
    "                           c = 'r',\n",
    "                           s= 10,  # s 是面积，相当于 markersize^2\n",
    "                           zorder = 1, \n",
    "                           transform=ccrs.PlateCarree(),\n",
    "                           )\n",
    "            ax.text(\n",
    "                x_test,  # x 坐标（经度）\n",
    "                y_test + 0.1,  # y 坐标（纬度）稍微上移 0.1 度\n",
    "                str(i),  # 标注内容（这里用 `i` 作为示例）\n",
    "                # color=colorlist[i],\n",
    "                color = 'r',\n",
    "                fontsize= 8,\n",
    "                transform=ccrs.PlateCarree(),\n",
    "                zorder=7  # 确保文本在散点和矩形之上\n",
    "                )\n",
    "            \n",
    "        # 下方为找到的所有的扰动中心  \n",
    "        for i_point_test in tracked_list[i]: \n",
    "            # print(i_point_test)\n",
    "            x_test , y_test , id =  i_point_test\n",
    "            test_lon_start = lons[x_test - wOfBox]\n",
    "            test_lat_start = lats[y_test + hOfBox]\n",
    "            lon_width = lons[x_test + wOfBox - 1] - test_lon_start \n",
    "            lat_height = lats[y_test - hOfBox - 1] - test_lat_start\n",
    "            # ax.scatter(test_lon_start, test_lat_start,    左下角  \n",
    "\n",
    "            ax.scatter(  lons[x_test], lats[y_test],  \n",
    "                           # c = colorlist[i],\n",
    "                           c = 'blue',\n",
    "                           s= 10,  # s 是面积，相当于 markersize^2\n",
    "                           zorder = 0, \n",
    "                           transform=ccrs.PlateCarree()\n",
    "                          ) \n",
    "\n",
    "            if i in [6, 7] :\n",
    "                rect = Rectangle((test_lon_start, test_lat_start ),\n",
    "                                     lon_width, lat_height,\n",
    "                                     linewidth=2, \n",
    "                                     edgecolor='red', facecolor='none',\n",
    "                                     linestyle='-', \n",
    "                                     zorder=5,\n",
    "                                     transform=ccrs.PlateCarree())\n",
    "                ax.add_patch(rect)\n",
    "                \n",
    "          \n",
    "            #  # 标记点对应的时刻的索引\n",
    "             \n",
    "            ax.text(\n",
    "                lons[x_test],  # x 坐标（经度）\n",
    "                lats[y_test] + 0.1,  # y 坐标（纬度）稍微上移 0.1 度\n",
    "                str(i),  # 标注内容（这里用 `i` 作为示例）\n",
    "                # color=colorlist[i],\n",
    "                color = 'blue',\n",
    "                fontsize= 8,\n",
    "                transform=ccrs.PlateCarree(),\n",
    "                zorder=7  # 确保文本在散点和矩形之上\n",
    "           )\n",
    "\n"
   ],
   "id": "f19f6a3374441622",
   "outputs": [
    {
     "data": {
      "text/plain": [
       "<Figure size 1200x1000 with 1 Axes>"
      ],
      "image/png": "[encoded data removed]"
     },
     "metadata": {},
     "output_type": "display_data"
    }
   ],
   "execution_count": 67
  },
  {
   "metadata": {},
   "cell_type": "markdown",
   "source": "## 判断发展扰动还是不发展扰动",
   "id": "362806802e5095b9"
  },
  {
   "metadata": {},
   "cell_type": "code",
   "outputs": [],
   "execution_count": null,
   "source": [
    "\"\"\"\n",
    "1. 输入 总的扰动中心点的列表 和 台风位置的列表\n",
    "2. 针对每个时刻, 以总的扰动中心点的列表为基准，w, h 来锁定真实lon, lat范围,\n",
    "   判断框定范围内是否有 台风中心点,  如果有, 则将对应id 都删除,  否则就保留\n",
    "\n",
    "\"\"\""
   ],
   "id": "f766e8b4d6cb59ac"
  },
  {
   "metadata": {
    "ExecuteTime": {
     "end_time": "2025-08-02T05:08:01.240145Z",
     "start_time": "2025-08-02T05:08:01.232976Z"
    }
   },
   "cell_type": "code",
   "source": "print(tracked_list) ",
   "id": "72014d1d2c4da55",
   "outputs": [
    {
     "name": "stdout",
     "output_type": "stream",
     "text": [
      "[[(144, 94, 0), (77, 50, 1), (195, 27, 2)], [(142, 91, 0), (76, 46, 1), (194, 28, 2)], [(137, 85, 0), (71, 45, 1), (190, 21, 2)], [(137, 89, 0), (66, 44, 1), (191, 25, 2)], [(141, 90, 0), (65, 44, 1), (189, 26, 2)], [(146, 89, 0), (65, 44, 1), (186, 26, 2)], [(137, 86, 0), (63, 41, 1), (178, 26, 2)], [(143, 82, 0), (179, 24, 2), (60, 39, 1)]]\n"
     ]
    }
   ],
   "execution_count": 68
  },
  {
   "metadata": {
    "ExecuteTime": {
     "end_time": "2025-08-02T07:37:46.693833Z",
     "start_time": "2025-08-02T07:37:46.683022Z"
    }
   },
   "cell_type": "code",
   "source": [
    "def judegeDevOrNonDev(tracked_list: List[Tuple[float, float, Any]], \n",
    "                      all_t_TCPoints: List[Tuple[float, float, Any]],\n",
    "                      wOfBox_degree: int = 10,  # 单位: 度\n",
    "                      hOfBox_degree: int = 10):\n",
    "    \n",
    "    t_length = len(tracked_list)  # 时刻数量\n",
    "    # tracked_list 的所有元素, 以tuple中的Any也就是id 为key , 其他两个float作为value\n",
    "    track_PtsById = defaultdict(list)\n",
    "    tc_PtsById = defaultdict(list)\n",
    "    for frame in tracked_list:\n",
    "        for x, y, id_ in frame:\n",
    "            track_PtsById[id_].append((x, y))\n",
    "    for frame in all_t_TCPoints:\n",
    "        for x, y, id_ in frame:\n",
    "            tc_PtsById[id_].append((x, y))\n",
    "    print(\"开始出的 keys\")\n",
    "    print(track_PtsById.keys())\n",
    "    # 对每个时刻的所有的点进行判断，判断是否是发展扰动还是不发展扰动\n",
    "    for i_t in range(t_length):\n",
    "        # 某个时刻具体的点 \n",
    "        i_t_tracked_list = tracked_list[i_t]\n",
    "        i_t_all_t_TCPoints = all_t_TCPoints[i_t]\n",
    "        \n",
    "        for i_pt in i_t_tracked_list:\n",
    "            x_pt, y_pt, id_pt = i_pt\n",
    "            # 以该点 为中心， 锁定 w, h 范围\n",
    "            \"\"\" 注意: 此处假定两个列表的点都代表经纬度, 而不是索引值 \"\"\"\n",
    "            box = {\n",
    "                \"lon_min\":  x_pt - wOfBox_degree,\n",
    "                \"lon_max\":  x_pt + wOfBox_degree,\n",
    "                \"lat_min\":  y_pt - hOfBox_degree,\n",
    "                \"lat_max\":  y_pt + hOfBox_degree,\n",
    "            }\n",
    "\n",
    "            # 查看范围内是否有 tc 点\n",
    "            for i_tc_point in i_t_all_t_TCPoints: \n",
    "                x_tc_pt, y_tc_pt, sid = i_tc_point\n",
    "                if sid in tc_PtsById.keys():\n",
    "                    if (x_tc_pt >= box[\"lon_min\"]) and \\\n",
    "                       (x_tc_pt <= box[\"lon_max\"]) and \\\n",
    "                       (y_tc_pt >= box[\"lat_min\"]) and \\\n",
    "                       (y_tc_pt <= box[\"lat_max\"]):\n",
    "                        del tc_PtsById[sid]   # 删除键值对\n",
    "                        del track_PtsById[id_pt]\n",
    "    \n",
    "    print(\"track_PtsById.keys()\")\n",
    "    print(track_PtsById.keys())\n",
    "    # track_PtsById剩下的 key 就是不发展扰动的点, 删除的就是发展扰动的点\n",
    "    \n",
    "    final_nondev_centers = []\n",
    "    final_dev_centers = []  \n",
    "    for i_t in range(t_length):\n",
    "        i_t_nondev_centers = []\n",
    "        i_t_dev_centers = []\n",
    "        \n",
    "        i_t_tracked_list = tracked_list[i_t]\n",
    "        # i_t_all_t_TCPoints = all_t_TCPoints[i_t]\n",
    "        for i_track_point in i_t_tracked_list:\n",
    "            x, y, id = i_track_point\n",
    "            if id in track_PtsById.keys():\n",
    "                # 扰动点\n",
    "                i_t_nondev_centers.append((x, y, id))\n",
    "            \n",
    "            else:\n",
    "                i_t_dev_centers.append((x, y, id))   # 后面得想办法把 sid 加进来, 可能得修改前面的代码\n",
    "        final_nondev_centers.append(i_t_nondev_centers)\n",
    "        final_dev_centers.append(i_t_dev_centers)\n",
    "    return final_nondev_centers, final_dev_centers\n"
   ],
   "id": "a40e26d6b242b460",
   "outputs": [],
   "execution_count": 132
  },
  {
   "metadata": {
    "ExecuteTime": {
     "end_time": "2025-08-02T07:37:47.609901Z",
     "start_time": "2025-08-02T07:37:47.602879Z"
    }
   },
   "cell_type": "code",
   "source": [
    "# 扰动中心真实的lon, lat 坐标\n",
    "final_nondev_centers, final_dev_centers = judegeDevOrNonDev(real_lonlatlist ,all_t_TCPoints )\n"
   ],
   "id": "1fff616d139c3fec",
   "outputs": [
    {
     "name": "stdout",
     "output_type": "stream",
     "text": [
      "开始出的 keys\n",
      "dict_keys([0, 1, 2])\n",
      "track_PtsById.keys()\n",
      "dict_keys([2])\n"
     ]
    }
   ],
   "execution_count": 133
  },
  {
   "metadata": {
    "ExecuteTime": {
     "end_time": "2025-08-02T07:38:00.171865Z",
     "start_time": "2025-08-02T07:38:00.165433Z"
    }
   },
   "cell_type": "code",
   "source": [
    "print(final_dev_centers)\n",
    "print(final_nondev_centers)"
   ],
   "id": "750bebd4a3b05e4a",
   "outputs": [
    {
     "name": "stdout",
     "output_type": "stream",
     "text": [
      "[[(141.0, 6.5, 0), (124.25, 17.5, 1)], [(140.5, 7.25, 0), (124.0, 18.5, 1)], [(139.25, 8.75, 0), (122.75, 18.75, 1)], [(139.25, 7.75, 0), (121.5, 19.0, 1)], [(140.25, 7.5, 0), (121.25, 19.0, 1)], [(141.5, 7.75, 0), (121.25, 19.0, 1)], [(139.25, 8.5, 0), (120.75, 19.75, 1)], [(140.75, 9.5, 0), (120.0, 20.25, 1)]]\n",
      "[[(153.75, 23.25, 2)], [(153.5, 23.0, 2)], [(152.5, 24.75, 2)], [(152.75, 23.75, 2)], [(152.25, 23.5, 2)], [(151.5, 23.5, 2)], [(149.5, 23.5, 2)], [(149.75, 24.0, 2)]]\n"
     ]
    }
   ],
   "execution_count": 135
  },
  {
   "metadata": {
    "ExecuteTime": {
     "end_time": "2025-08-02T07:41:10.420508Z",
     "start_time": "2025-08-02T07:41:08.299916Z"
    }
   },
   "cell_type": "code",
   "source": [
    "# 可视化\n",
    "\n",
    "\"\"\"  将所有的时刻的点都画在同一张图上 \"\"\"\n",
    "# wOfBox, hOfBox = 16, 16\n",
    "wOfBox, hOfBox = 10, 10\n",
    "\n",
    "vmin = np.min(vo_smth)  # 或者用 np.percentile(self.vo, 1)\n",
    "vmax = np.max(vo_smth)  # 或者用 np.percentile(self.vo, 99)\n",
    "\n",
    "fig, axes = plt.subplots( 1,1, figsize=(12, 10),\n",
    "                        subplot_kw={'projection': ccrs.PlateCarree()})\n",
    "ax = axes\n",
    "# 用于存储每个子图的 contourf 对象（用于 colorbar）\n",
    "ax.set_extent([lons.min(), lons.max(), lats.min(), lats.max()], crs=ccrs.PlateCarree())\n",
    "for i in range(len(pd_time_range)):     \n",
    "    ax.add_feature(cfeature.LAND, facecolor='lightgray')\n",
    "    ax.add_feature(cfeature.OCEAN, facecolor='white')\n",
    "    ax.add_feature(cfeature.COASTLINE,)\n",
    "    ax.add_feature(cfeature.BORDERS, linewidth=0.1)\n",
    "\n",
    "    # 网格线\n",
    "    gl = ax.gridlines(draw_labels=True,\n",
    "                    x_inline=False, y_inline=False,\n",
    "                    linewidth=0.5, color='gray', alpha=0.5, linestyle='--')\n",
    "    gl.top_labels = False\n",
    "    gl.right_labels = False\n",
    "\n",
    "    # # 画框\n",
    "    colorlist = ['red', 'green', 'blue', 'yellow', 'purple', 'orange', 'gray', 'pink']\n",
    "    if final_dev_centers is not None:\n",
    "        # 下方为TC中心 \n",
    "        for i_point_test in final_dev_centers[i]: \n",
    "            # print(i_point_test)\n",
    "            x_test , y_test, sid =  i_point_test\n",
    "            ax.scatter(  x_test, y_test  ,       #lons[x_test], lats[y_test],  \n",
    "                           # c = colorlist[i],\n",
    "                           c = 'r',\n",
    "                           s= 10,  # s 是面积，相当于 markersize^2\n",
    "                           zorder = 1, \n",
    "                           transform=ccrs.PlateCarree(),\n",
    "                           )\n",
    "            # ax.text(\n",
    "            #     x_test,  # x 坐标（经度）\n",
    "            #     y_test + 0.1,  # y 坐标（纬度）稍微上移 0.1 度\n",
    "            #     str(i),  # 标注内容（这里用 `i` 作为示例）\n",
    "            #     # color=colorlist[i],\n",
    "            #     color = 'r',\n",
    "            #     fontsize= 8,\n",
    "            #     transform=ccrs.PlateCarree(),\n",
    "            #     zorder=7  # 确保文本在散点和矩形之上\n",
    "            #     )\n",
    "            \n",
    "        # 下方为找到的 non-dev 扰动中心  \n",
    "        for i_point_test in final_nondev_centers[i]: \n",
    "            # print(i_point_test)\n",
    "            x_test , y_test , id =  i_point_test\n",
    "            test_lon_start = x_test\n",
    "            test_lat_start = y_test\n",
    "            lon_width = test_lon_start + wOfBox\n",
    "            lat_height = test_lat_start + 10 \n",
    "            # ax.scatter(test_lon_start, test_lat_start,    左下角  \n",
    "\n",
    "            ax.scatter(  x_test, y_test,  \n",
    "                           # c = colorlist[i],\n",
    "                           c = 'blue',\n",
    "                           s= 10,  # s 是面积，相当于 markersize^2\n",
    "                           zorder = 0, \n",
    "                           transform=ccrs.PlateCarree()\n",
    "                          ) \n",
    "\n",
    "            # if i in [6, 7] :\n",
    "            #     rect = Rectangle((test_lon_start, test_lat_start ),\n",
    "            #                          lon_width, lat_height,\n",
    "            #                          linewidth=2, \n",
    "            #                          edgecolor='red', facecolor='none',\n",
    "            #                          linestyle='-', \n",
    "            #                          zorder=5,\n",
    "            #                          transform=ccrs.PlateCarree())\n",
    "            #     ax.add_patch(rect)\n",
    "                \n",
    "          \n",
    "            #  # 标记点对应的时刻的索引\n",
    "             \n",
    "           #  ax.text(\n",
    "           #      lons[x_test],  # x 坐标（经度）\n",
    "           #      lats[y_test] + 0.1,  # y 坐标（纬度）稍微上移 0.1 度\n",
    "           #      str(i),  # 标注内容（这里用 `i` 作为示例）\n",
    "           #      # color=colorlist[i],\n",
    "           #      color = 'blue',\n",
    "           #      fontsize= 8,\n",
    "           #      transform=ccrs.PlateCarree(),\n",
    "           #      zorder=7  # 确保文本在散点和矩形之上\n",
    "           # )\n",
    "\n"
   ],
   "id": "64d2639a78075916",
   "outputs": [
    {
     "data": {
      "text/plain": [
       "<Figure size 1200x1000 with 1 Axes>"
      ],
      "image/png": "[encoded data removed]"
     },
     "metadata": {},
     "output_type": "display_data"
    }
   ],
   "execution_count": 139
  },
  {
   "metadata": {},
   "cell_type": "code",
   "outputs": [],
   "execution_count": null,
   "source": "",
   "id": "a29a9c9b37a0f719"
  }
 ],
 "metadata": {
  "kernelspec": {
   "display_name": "Python 3",
   "language": "python",
   "name": "python3"
  },
  "language_info": {
   "codemirror_mode": {
    "name": "ipython",
    "version": 3
   },
   "file_extension": ".py",
   "mimetype": "text/x-python",
   "name": "python",
   "nbconvert_exporter": "python",
   "pygments_lexer": "ipython3",
   "version": "3.11.9"
  }
 },
 "nbformat": 4,
 "nbformat_minor": 5
}
